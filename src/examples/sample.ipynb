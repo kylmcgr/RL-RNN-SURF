{
 "cells": [
  {
   "cell_type": "markdown",
   "metadata": {},
   "source": [
    "We first define the input data. The input data is has the following structure: We have a group of subjects (say S1 and S2) and each subject has completed the decision-making task multiple times (multiple blocks), say each subject has completed the task two times in this example, i.e., we have two blocks of data for each subject. The data within each block is a ditonary containing three numpy arrays: 'action', 'state', 'reward'. \n",
    "\n",
    "'action' containig the actions taken by the subject on each trial and it should be a non-zero integer or -1. If the action is -1 it will coded by a zero vector and corresponds to no-action. Dimesionlity of 'action' is B x |T| in which |T| is the number of trials.\n",
    "\n",
    "'state' contains the state of the environment each trial. Its dimesionlity is B x |T| x |S| in which |T| is the number of trials, and |S| is the lenght of state vector. \n",
    "\n",
    "'reward' contains the reward received after taking each actions. Its dimesionlity is B x |T| in which |T| is the number of trials.\n",
    "\n",
    "For example, if subject S1 has completed 6 trials in the firt block and 4 trials in the second block and subject 2 has completed 5, 6 trials in the first and second blocks respectivly, then the data structure can look like this:\n",
    "\n",
    "   "
   ]
  },
  {
   "cell_type": "code",
   "execution_count": 1,
   "metadata": {},
   "outputs": [],
   "source": [
    "#  Data\n",
    "import numpy as np\n",
    "data = {'S1':\n",
    "        [\n",
    "            {\n",
    "                'action': np.array([\n",
    "                    [0, 1, 0, 1, 0, 1]\n",
    "                ]),\n",
    "                'state': np.array([\n",
    "                    [[0, 0], [0, 1], [0.1, 0.2], [0.5, 0.6], [0, 0], [1, 1]]\n",
    "                ]),\n",
    "                'reward': np.array([\n",
    "                    [0, 1, 0, 1, 0, 1]\n",
    "                ]),\n",
    "                'id': 'S1',\n",
    "                \n",
    "                'block': 0\n",
    "            },\n",
    "            {\n",
    "                'action': np.array([\n",
    "                    [1, 1, 0, -1]\n",
    "                ]),\n",
    "                'state': np.array([\n",
    "                    [[0, 1], [1, -1], [0.1, 0], [0, 0.6]]\n",
    "                ]),\n",
    "                'reward': np.array([\n",
    "                    [0, 0, 0, 0]\n",
    "                ]),\n",
    "                'id': 'S1',\n",
    "                \n",
    "                'block': 1\n",
    "            }\n",
    "            \n",
    "        ],\n",
    "\n",
    "    'S2':\n",
    "        [\n",
    "            {\n",
    "                'action': np.array([\n",
    "                    [0, 1, 0, 1, 0]\n",
    "                ]),\n",
    "                'state': np.array([\n",
    "                    [[0, 0], [0, 1], [0.1, 0.2], [0.5, 0.6], [0, 0]]\n",
    "                ]),\n",
    "                'reward': np.array([\n",
    "                    [0, 1, 0, 1, 0]\n",
    "                ]),\n",
    "                'id': 'S2',\n",
    "                \n",
    "                'block': 0\n",
    "                \n",
    "            },\n",
    "            {\n",
    "                'action': np.array([\n",
    "                    [1, 1, 0, 1, 1, 1]\n",
    "                ]),\n",
    "                'state': np.array([\n",
    "                    [[0, 0], [0, -1], [0.1, 0.2], [0.5, 0.6], [0, 1], [-1, -1]]\n",
    "                ]),\n",
    "                'reward': np.array([\n",
    "                    [0, 0, 0, 0, 0, 1]\n",
    "                ]),\n",
    "                'id': 'S2',\n",
    "                \n",
    "                'block': 1\n",
    "                \n",
    "            }\n",
    "            \n",
    "        ]\n",
    "\n",
    "        }\n",
    "print(data['S1'][0]['action'].shape,data['S1'][0]['state'].shape,data['S1'][0]['reward'].shape)"
   ]
  },
  {
   "cell_type": "code",
   "execution_count": 6,
   "metadata": {},
   "outputs": [
    {
     "data": {
      "text/plain": [
       "{'S1': [{'action': array([[0, 1, 0, 1, 0, 1]]),\n",
       "   'state': array([[[0. , 0. ],\n",
       "           [0. , 1. ],\n",
       "           [0.1, 0.2],\n",
       "           [0.5, 0.6],\n",
       "           [0. , 0. ],\n",
       "           [1. , 1. ]]]),\n",
       "   'reward': array([[0, 1, 0, 1, 0, 1]]),\n",
       "   'id': 'S1',\n",
       "   'block': 0},\n",
       "  {'action': array([[ 1,  1,  0, -1]]),\n",
       "   'state': array([[[ 0. ,  1. ],\n",
       "           [ 1. , -1. ],\n",
       "           [ 0.1,  0. ],\n",
       "           [ 0. ,  0.6]]]),\n",
       "   'reward': array([[0, 0, 0, 0]]),\n",
       "   'id': 'S1',\n",
       "   'block': 1}],\n",
       " 'S2': [{'action': array([[0, 1, 0, 1, 0]]),\n",
       "   'state': array([[[0. , 0. ],\n",
       "           [0. , 1. ],\n",
       "           [0.1, 0.2],\n",
       "           [0.5, 0.6],\n",
       "           [0. , 0. ]]]),\n",
       "   'reward': array([[0, 1, 0, 1, 0]]),\n",
       "   'id': 'S2',\n",
       "   'block': 0},\n",
       "  {'action': array([[1, 1, 0, 1, 1, 1]]),\n",
       "   'state': array([[[ 0. ,  0. ],\n",
       "           [ 0. , -1. ],\n",
       "           [ 0.1,  0.2],\n",
       "           [ 0.5,  0.6],\n",
       "           [ 0. ,  1. ],\n",
       "           [-1. , -1. ]]]),\n",
       "   'reward': array([[0, 0, 0, 0, 0, 1]]),\n",
       "   'id': 'S2',\n",
       "   'block': 1}]}"
      ]
     },
     "execution_count": 6,
     "metadata": {},
     "output_type": "execute_result"
    }
   ],
   "source": [
    "data"
   ]
  },
  {
   "cell_type": "markdown",
   "metadata": {},
   "source": [
    "In the above example, |A|=2 (there are two actions coded as 0 and 1), and |S|=2 (the state vector has two elements). For example, if there are three stimuli in the environment, they can be coded as [1, 0, 0], [0, 1, 0], [0, 0, 1] state vectors. In this case |S|=3."
   ]
  },
  {
   "cell_type": "code",
   "execution_count": 3,
   "metadata": {},
   "outputs": [
    {
     "name": "stdout",
     "output_type": "stream",
     "text": [
      "C:\\Users\\User\\Documents\\SURF 2021\\RL RNN SURF\\src\n"
     ]
    }
   ],
   "source": [
    "cd .."
   ]
  },
  {
   "cell_type": "code",
   "execution_count": 4,
   "metadata": {
    "scrolled": true
   },
   "outputs": [
    {
     "name": "stderr",
     "output_type": "stream",
     "text": [
      "c:\\users\\user\\documents\\surf 2021\\rl rnn surf\\venv\\lib\\site-packages\\tensorflow\\python\\framework\\dtypes.py:526: FutureWarning: Passing (type, 1) or '1type' as a synonym of type is deprecated; in a future version of numpy, it will be understood as (type, (1,)) / '(1,)type'.\n",
      "  _np_qint8 = np.dtype([(\"qint8\", np.int8, 1)])\n",
      "c:\\users\\user\\documents\\surf 2021\\rl rnn surf\\venv\\lib\\site-packages\\tensorflow\\python\\framework\\dtypes.py:527: FutureWarning: Passing (type, 1) or '1type' as a synonym of type is deprecated; in a future version of numpy, it will be understood as (type, (1,)) / '(1,)type'.\n",
      "  _np_quint8 = np.dtype([(\"quint8\", np.uint8, 1)])\n",
      "c:\\users\\user\\documents\\surf 2021\\rl rnn surf\\venv\\lib\\site-packages\\tensorflow\\python\\framework\\dtypes.py:528: FutureWarning: Passing (type, 1) or '1type' as a synonym of type is deprecated; in a future version of numpy, it will be understood as (type, (1,)) / '(1,)type'.\n",
      "  _np_qint16 = np.dtype([(\"qint16\", np.int16, 1)])\n",
      "c:\\users\\user\\documents\\surf 2021\\rl rnn surf\\venv\\lib\\site-packages\\tensorflow\\python\\framework\\dtypes.py:529: FutureWarning: Passing (type, 1) or '1type' as a synonym of type is deprecated; in a future version of numpy, it will be understood as (type, (1,)) / '(1,)type'.\n",
      "  _np_quint16 = np.dtype([(\"quint16\", np.uint16, 1)])\n",
      "c:\\users\\user\\documents\\surf 2021\\rl rnn surf\\venv\\lib\\site-packages\\tensorflow\\python\\framework\\dtypes.py:530: FutureWarning: Passing (type, 1) or '1type' as a synonym of type is deprecated; in a future version of numpy, it will be understood as (type, (1,)) / '(1,)type'.\n",
      "  _np_qint32 = np.dtype([(\"qint32\", np.int32, 1)])\n",
      "c:\\users\\user\\documents\\surf 2021\\rl rnn surf\\venv\\lib\\site-packages\\tensorflow\\python\\framework\\dtypes.py:535: FutureWarning: Passing (type, 1) or '1type' as a synonym of type is deprecated; in a future version of numpy, it will be understood as (type, (1,)) / '(1,)type'.\n",
      "  np_resource = np.dtype([(\"resource\", np.ubyte, 1)])\n",
      "2021-06-28 13:13:29,981 - DeepRL - DEBUG - model created with ncells: 5\n",
      "2021-06-28 13:13:29,982 - DeepRL - DEBUG - number of actions: 2\n",
      "2021-06-28 13:13:29,983 - DeepRL - DEBUG - number of states: 2\n"
     ]
    },
    {
     "name": "stdout",
     "output_type": "stream",
     "text": [
      "WARNING:tensorflow:From C:\\Users\\User\\Documents\\SURF 2021\\RL RNN SURF\\src\\actionflow\\rnn\\lstm_base.py:14: BasicLSTMCell.__init__ (from tensorflow.python.ops.rnn_cell_impl) is deprecated and will be removed in a future version.\n",
      "Instructions for updating:\n",
      "This class is equivalent as tf.keras.layers.LSTMCell, and will be replaced by that in Tensorflow 2.0.\n",
      "WARNING:tensorflow:From c:\\users\\user\\documents\\surf 2021\\rl rnn surf\\venv\\lib\\site-packages\\tensorflow\\python\\ops\\control_flow_ops.py:423: colocate_with (from tensorflow.python.framework.ops) is deprecated and will be removed in a future version.\n",
      "Instructions for updating:\n",
      "Colocations handled automatically by placer.\n",
      "WARNING:tensorflow:From C:\\Users\\User\\Documents\\SURF 2021\\RL RNN SURF\\src\\actionflow\\rnn\\lstm_base.py:43: dynamic_rnn (from tensorflow.python.ops.rnn) is deprecated and will be removed in a future version.\n",
      "Instructions for updating:\n",
      "Please use `keras.layers.RNN(cell)`, which is equivalent to this API\n"
     ]
    }
   ],
   "source": [
    "from actionflow.rnn.lstm_beh import LSTMBeh\n",
    "worker = LSTMBeh(a_size=2, s_size=2, n_cells=5)"
   ]
  },
  {
   "cell_type": "markdown",
   "metadata": {},
   "source": [
    "Finally, we train the model:"
   ]
  },
  {
   "cell_type": "code",
   "execution_count": 5,
   "metadata": {},
   "outputs": [
    {
     "name": "stderr",
     "output_type": "stream",
     "text": [
      "2021-06-28 13:13:38,345 - DeepRL - DEBUG - version control: (None, None)\n",
      "2021-06-28 13:13:38,346 - DeepRL - DEBUG - learning rate: 0.01\n",
      "2021-06-28 13:13:38,347 - DeepRL - DEBUG - global iters: 50\n",
      "2021-06-28 13:13:38,347 - DeepRL - DEBUG - training data-points: 2\n",
      "2021-06-28 13:13:38,348 - DeepRL - DEBUG - test data-points: None\n"
     ]
    },
    {
     "name": "stdout",
     "output_type": "stream",
     "text": [
      "WARNING:tensorflow:From c:\\users\\user\\documents\\surf 2021\\rl rnn surf\\venv\\lib\\site-packages\\tensorflow\\python\\ops\\math_ops.py:3066: to_int32 (from tensorflow.python.ops.math_ops) is deprecated and will be removed in a future version.\n",
      "Instructions for updating:\n",
      "Use tf.cast instead.\n"
     ]
    },
    {
     "name": "stderr",
     "output_type": "stream",
     "text": [
      "2021-06-28 13:13:38,752 - DeepRL - DEBUG - opt started...\n"
     ]
    },
    {
     "name": "stdout",
     "output_type": "stream",
     "text": [
      "INFO:tensorflow:../results/model-0/model.cptk is not in all_model_checkpoint_paths. Manually adding it.\n"
     ]
    },
    {
     "name": "stderr",
     "output_type": "stream",
     "text": [
      "2021-06-28 13:13:39,183 - DeepRL - DEBUG - global iter =    0 total obj: 13.8566\n",
      "2021-06-28 13:13:39,204 - DeepRL - DEBUG - global iter =    1 total obj: 13.7612\n",
      "2021-06-28 13:13:39,224 - DeepRL - DEBUG - global iter =    2 total obj: 13.6256\n",
      "2021-06-28 13:13:39,243 - DeepRL - DEBUG - global iter =    3 total obj: 13.4158\n",
      "2021-06-28 13:13:39,263 - DeepRL - DEBUG - global iter =    4 total obj: 13.1169\n",
      "2021-06-28 13:13:39,285 - DeepRL - DEBUG - global iter =    5 total obj: 12.7281\n",
      "2021-06-28 13:13:39,304 - DeepRL - DEBUG - global iter =    6 total obj: 12.2622\n",
      "2021-06-28 13:13:39,325 - DeepRL - DEBUG - global iter =    7 total obj: 11.7401\n",
      "2021-06-28 13:13:39,345 - DeepRL - DEBUG - global iter =    8 total obj: 11.1838\n",
      "2021-06-28 13:13:39,365 - DeepRL - DEBUG - global iter =    9 total obj: 10.6131\n",
      "2021-06-28 13:13:39,385 - DeepRL - DEBUG - global iter =   10 total obj: 10.0476\n",
      "2021-06-28 13:13:39,403 - DeepRL - DEBUG - global iter =   11 total obj:  9.5055\n",
      "2021-06-28 13:13:39,422 - DeepRL - DEBUG - global iter =   12 total obj:  8.9997\n",
      "2021-06-28 13:13:39,441 - DeepRL - DEBUG - global iter =   13 total obj:  8.5353\n",
      "2021-06-28 13:13:39,458 - DeepRL - DEBUG - global iter =   14 total obj:  8.1103\n",
      "2021-06-28 13:13:39,477 - DeepRL - DEBUG - global iter =   15 total obj:  7.7198\n",
      "2021-06-28 13:13:39,495 - DeepRL - DEBUG - global iter =   16 total obj:  7.3597\n",
      "2021-06-28 13:13:39,511 - DeepRL - DEBUG - global iter =   17 total obj:  7.0282\n",
      "2021-06-28 13:13:39,525 - DeepRL - DEBUG - global iter =   18 total obj:  6.7242\n",
      "2021-06-28 13:13:39,542 - DeepRL - DEBUG - global iter =   19 total obj:  6.4461\n",
      "2021-06-28 13:13:39,558 - DeepRL - DEBUG - global iter =   20 total obj:  6.1915\n",
      "2021-06-28 13:13:39,574 - DeepRL - DEBUG - global iter =   21 total obj:  5.9579\n",
      "2021-06-28 13:13:39,589 - DeepRL - DEBUG - global iter =   22 total obj:  5.7431\n",
      "2021-06-28 13:13:39,603 - DeepRL - DEBUG - global iter =   23 total obj:  5.5457\n",
      "2021-06-28 13:13:39,619 - DeepRL - DEBUG - global iter =   24 total obj:  5.3645\n",
      "2021-06-28 13:13:39,635 - DeepRL - DEBUG - global iter =   25 total obj:  5.1983\n",
      "2021-06-28 13:13:39,649 - DeepRL - DEBUG - global iter =   26 total obj:  5.0456\n",
      "2021-06-28 13:13:39,666 - DeepRL - DEBUG - global iter =   27 total obj:  4.9050\n",
      "2021-06-28 13:13:39,684 - DeepRL - DEBUG - global iter =   28 total obj:  4.7750\n",
      "2021-06-28 13:13:39,700 - DeepRL - DEBUG - global iter =   29 total obj:  4.6541\n",
      "2021-06-28 13:13:39,719 - DeepRL - DEBUG - global iter =   30 total obj:  4.5410\n",
      "2021-06-28 13:13:39,736 - DeepRL - DEBUG - global iter =   31 total obj:  4.4345\n",
      "2021-06-28 13:13:39,754 - DeepRL - DEBUG - global iter =   32 total obj:  4.3336\n",
      "2021-06-28 13:13:39,772 - DeepRL - DEBUG - global iter =   33 total obj:  4.2376\n",
      "2021-06-28 13:13:39,791 - DeepRL - DEBUG - global iter =   34 total obj:  4.1456\n",
      "2021-06-28 13:13:39,808 - DeepRL - DEBUG - global iter =   35 total obj:  4.0573\n",
      "2021-06-28 13:13:39,826 - DeepRL - DEBUG - global iter =   36 total obj:  3.9723\n",
      "2021-06-28 13:13:39,841 - DeepRL - DEBUG - global iter =   37 total obj:  3.8903\n",
      "2021-06-28 13:13:39,857 - DeepRL - DEBUG - global iter =   38 total obj:  3.8110\n",
      "2021-06-28 13:13:39,872 - DeepRL - DEBUG - global iter =   39 total obj:  3.7342\n",
      "2021-06-28 13:13:39,888 - DeepRL - DEBUG - global iter =   40 total obj:  3.6598\n",
      "2021-06-28 13:13:39,903 - DeepRL - DEBUG - global iter =   41 total obj:  3.5876\n",
      "2021-06-28 13:13:39,917 - DeepRL - DEBUG - global iter =   42 total obj:  3.5175\n",
      "2021-06-28 13:13:39,931 - DeepRL - DEBUG - global iter =   43 total obj:  3.4492\n",
      "2021-06-28 13:13:39,946 - DeepRL - DEBUG - global iter =   44 total obj:  3.3827\n",
      "2021-06-28 13:13:39,960 - DeepRL - DEBUG - global iter =   45 total obj:  3.3180\n",
      "2021-06-28 13:13:39,973 - DeepRL - DEBUG - global iter =   46 total obj:  3.2550\n",
      "2021-06-28 13:13:39,987 - DeepRL - DEBUG - global iter =   47 total obj:  3.1935\n",
      "2021-06-28 13:13:40,000 - DeepRL - DEBUG - global iter =   48 total obj:  3.1337\n",
      "2021-06-28 13:13:40,014 - DeepRL - DEBUG - global iter =   49 total obj:  3.0755\n",
      "2021-06-28 13:13:40,015 - DeepRL - DEBUG - opt finished.\n"
     ]
    },
    {
     "name": "stdout",
     "output_type": "stream",
     "text": [
      "INFO:tensorflow:../results/model-final/model.cptk is not in all_model_checkpoint_paths. Manually adding it.\n"
     ]
    }
   ],
   "source": [
    "from actionflow.rnn.opt_beh import OptBEH\n",
    "from actionflow.util.logger import LogFile\n",
    "\n",
    "output_path = '../results/'\n",
    "with LogFile(output_path, 'run.log'):\n",
    "    OptBEH.optimise(worker, output_path, data, None,\n",
    "                    learning_rate=0.01,\n",
    "                    global_iters=50,\n",
    "                    load_model_path=None\n",
    "                    )"
   ]
  },
  {
   "cell_type": "code",
   "execution_count": null,
   "metadata": {},
   "outputs": [],
   "source": []
  },
  {
   "cell_type": "code",
   "execution_count": 6,
   "metadata": {},
   "outputs": [
    {
     "data": {
      "text/plain": [
       "{'merged': [{'reward': array([[ 0,  1,  0,  1,  0, -1],\n",
       "          [ 0,  0,  0,  0,  0,  1],\n",
       "          [ 0,  1,  0,  1,  0,  1],\n",
       "          [ 0,  0,  0,  0, -1, -1]]),\n",
       "   'action': array([[ 0,  1,  0,  1,  0, -1],\n",
       "          [ 1,  1,  0,  1,  1,  1],\n",
       "          [ 0,  1,  0,  1,  0,  1],\n",
       "          [ 1,  1,  0, -1, -1, -1]]),\n",
       "   'state': array([[[ 0. ,  0. ],\n",
       "           [ 0. ,  1. ],\n",
       "           [ 0.1,  0.2],\n",
       "           [ 0.5,  0.6],\n",
       "           [ 0. ,  0. ],\n",
       "           [-1. , -1. ]],\n",
       "   \n",
       "          [[ 0. ,  0. ],\n",
       "           [ 0. , -1. ],\n",
       "           [ 0.1,  0.2],\n",
       "           [ 0.5,  0.6],\n",
       "           [ 0. ,  1. ],\n",
       "           [-1. , -1. ]],\n",
       "   \n",
       "          [[ 0. ,  0. ],\n",
       "           [ 0. ,  1. ],\n",
       "           [ 0.1,  0.2],\n",
       "           [ 0.5,  0.6],\n",
       "           [ 0. ,  0. ],\n",
       "           [ 1. ,  1. ]],\n",
       "   \n",
       "          [[ 0. ,  1. ],\n",
       "           [ 1. , -1. ],\n",
       "           [ 0.1,  0. ],\n",
       "           [ 0. ,  0.6],\n",
       "           [-1. , -1. ],\n",
       "           [-1. , -1. ]]]),\n",
       "   'block': 0,\n",
       "   'id': ['S2', 'S2', 'S1', 'S1']}]}"
      ]
     },
     "execution_count": 6,
     "metadata": {},
     "output_type": "execute_result"
    }
   ],
   "source": [
    "from actionflow.data.data_process import DataProcess\n",
    "train_merged = DataProcess.merge_data(data)\n",
    "train_merged"
   ]
  },
  {
   "cell_type": "markdown",
   "metadata": {},
   "source": [
    "And then the merged data can be used for training the model as before. The test data can also be passed to the training method, in order to test the mmodel on the training data in regular intervals. Say the test data is as follows:"
   ]
  },
  {
   "cell_type": "code",
   "execution_count": 7,
   "metadata": {},
   "outputs": [],
   "source": [
    "test_data = {'S4':\n",
    "        [\n",
    "            {\n",
    "                'action': np.array([\n",
    "                    [1, 1, 0, 1, 0, 1]\n",
    "                ]),\n",
    "                'state': np.array([\n",
    "                    [[0, 0], [0, 1], [0.0, 0.2], [0.1, 0.2], [1, 1], [1, 1]]\n",
    "                ]),\n",
    "                'reward': np.array([\n",
    "                    [1, 3, 0, 1, 0, 1]\n",
    "                ]),\n",
    "                'id': 'S4',\n",
    "                \n",
    "                'block': 0\n",
    "            },\n",
    "            {\n",
    "                'action': np.array([\n",
    "                    [0, 1, -1, 0]\n",
    "                ]),\n",
    "                'state': np.array([\n",
    "                    [[0, 1], [1, -1], [0.1, 0], [0, 0.6]]\n",
    "                ]),\n",
    "                'reward': np.array([\n",
    "                    [0, 1, 0, 1]\n",
    "                ]),\n",
    "                'id': 'S4',\n",
    "                \n",
    "                'block': 1\n",
    "            }\n",
    "            \n",
    "        ],\n",
    "\n",
    "    'S5':\n",
    "        [\n",
    "            {\n",
    "                'action': np.array([\n",
    "                    [1, 1, 0, 1, 1]\n",
    "                ]),\n",
    "                'state': np.array([\n",
    "                    [[0, 0], [0, 0], [0.1, 0.6], [0.5, 0.6], [1, 1]]\n",
    "                ]),\n",
    "                'reward': np.array([\n",
    "                    [0, 1, 0, 1, 0]\n",
    "                ]),\n",
    "                'id': 'S5',\n",
    "                \n",
    "                'block': 0\n",
    "                \n",
    "            },\n",
    "            {\n",
    "                'action': np.array([\n",
    "                    [1, 1, 0, 1, 1, 1]\n",
    "                ]),\n",
    "                'state': np.array([\n",
    "                    [[0, 0], [0, -1], [0.1, 0.2], [0.5, 0.6], [0, 1], [-1, -1]]\n",
    "                ]),\n",
    "                'reward': np.array([\n",
    "                    [0, 0, 0, 0, 0, 1]\n",
    "                ]),\n",
    "                'id': 'S5',\n",
    "                \n",
    "                'block': 1\n",
    "                \n",
    "            }\n",
    "            \n",
    "        ]\n",
    "\n",
    "        }"
   ]
  },
  {
   "cell_type": "markdown",
   "metadata": {},
   "source": [
    "and we want to test the model every 10 iterations:"
   ]
  },
  {
   "cell_type": "code",
   "execution_count": 8,
   "metadata": {},
   "outputs": [
    {
     "name": "stderr",
     "output_type": "stream",
     "text": [
      "2021-06-28 13:14:03,107 - DeepRL - DEBUG - version control: (None, None)\n",
      "2021-06-28 13:14:03,108 - DeepRL - DEBUG - learning rate: 0.01\n",
      "2021-06-28 13:14:03,109 - DeepRL - DEBUG - global iters: 50\n",
      "2021-06-28 13:14:03,110 - DeepRL - DEBUG - training data-points: 2\n",
      "2021-06-28 13:14:03,111 - DeepRL - DEBUG - test data-points: 2\n",
      "2021-06-28 13:14:03,546 - DeepRL - DEBUG - opt started...\n",
      "2021-06-28 13:14:03,547 - DeepRL - DEBUG - started testing...\n",
      "2021-06-28 13:14:03,975 - DeepRL - DEBUG - finished testing.\n"
     ]
    },
    {
     "name": "stdout",
     "output_type": "stream",
     "text": [
      "INFO:tensorflow:../results/model-0/model.cptk is not in all_model_checkpoint_paths. Manually adding it.\n"
     ]
    },
    {
     "name": "stderr",
     "output_type": "stream",
     "text": [
      "2021-06-28 13:14:04,491 - DeepRL - DEBUG - global iter =    0 total obj: 13.8669\n",
      "2021-06-28 13:14:04,511 - DeepRL - DEBUG - global iter =    1 total obj: 13.8146\n",
      "2021-06-28 13:14:04,532 - DeepRL - DEBUG - global iter =    2 total obj: 13.7349\n",
      "2021-06-28 13:14:04,551 - DeepRL - DEBUG - global iter =    3 total obj: 13.6051\n",
      "2021-06-28 13:14:04,573 - DeepRL - DEBUG - global iter =    4 total obj: 13.4159\n",
      "2021-06-28 13:14:04,594 - DeepRL - DEBUG - global iter =    5 total obj: 13.1663\n",
      "2021-06-28 13:14:04,615 - DeepRL - DEBUG - global iter =    6 total obj: 12.8613\n",
      "2021-06-28 13:14:04,636 - DeepRL - DEBUG - global iter =    7 total obj: 12.5064\n",
      "2021-06-28 13:14:04,657 - DeepRL - DEBUG - global iter =    8 total obj: 12.1026\n",
      "2021-06-28 13:14:04,680 - DeepRL - DEBUG - global iter =    9 total obj: 11.6479\n",
      "2021-06-28 13:14:04,681 - DeepRL - DEBUG - started testing...\n",
      "2021-06-28 13:14:05,130 - DeepRL - DEBUG - finished testing.\n"
     ]
    },
    {
     "name": "stdout",
     "output_type": "stream",
     "text": [
      "INFO:tensorflow:../results/model-10/model.cptk is not in all_model_checkpoint_paths. Manually adding it.\n"
     ]
    },
    {
     "name": "stderr",
     "output_type": "stream",
     "text": [
      "2021-06-28 13:14:05,366 - DeepRL - DEBUG - global iter =   10 total obj: 11.1448\n",
      "2021-06-28 13:14:05,389 - DeepRL - DEBUG - global iter =   11 total obj: 10.6094\n",
      "2021-06-28 13:14:05,412 - DeepRL - DEBUG - global iter =   12 total obj: 10.0747\n",
      "2021-06-28 13:14:05,435 - DeepRL - DEBUG - global iter =   13 total obj:  9.5749\n",
      "2021-06-28 13:14:05,455 - DeepRL - DEBUG - global iter =   14 total obj:  9.1271\n",
      "2021-06-28 13:14:05,477 - DeepRL - DEBUG - global iter =   15 total obj:  8.7281\n",
      "2021-06-28 13:14:05,492 - DeepRL - DEBUG - global iter =   16 total obj:  8.3641\n",
      "2021-06-28 13:14:05,506 - DeepRL - DEBUG - global iter =   17 total obj:  8.0218\n",
      "2021-06-28 13:14:05,519 - DeepRL - DEBUG - global iter =   18 total obj:  7.6953\n",
      "2021-06-28 13:14:05,532 - DeepRL - DEBUG - global iter =   19 total obj:  7.3853\n",
      "2021-06-28 13:14:05,533 - DeepRL - DEBUG - started testing...\n",
      "2021-06-28 13:14:05,977 - DeepRL - DEBUG - finished testing.\n"
     ]
    },
    {
     "name": "stdout",
     "output_type": "stream",
     "text": [
      "INFO:tensorflow:../results/model-20/model.cptk is not in all_model_checkpoint_paths. Manually adding it.\n"
     ]
    },
    {
     "name": "stderr",
     "output_type": "stream",
     "text": [
      "2021-06-28 13:14:06,207 - DeepRL - DEBUG - global iter =   20 total obj:  7.0947\n",
      "2021-06-28 13:14:06,230 - DeepRL - DEBUG - global iter =   21 total obj:  6.8240\n",
      "2021-06-28 13:14:06,249 - DeepRL - DEBUG - global iter =   22 total obj:  6.5709\n",
      "2021-06-28 13:14:06,271 - DeepRL - DEBUG - global iter =   23 total obj:  6.3318\n",
      "2021-06-28 13:14:06,290 - DeepRL - DEBUG - global iter =   24 total obj:  6.1039\n",
      "2021-06-28 13:14:06,309 - DeepRL - DEBUG - global iter =   25 total obj:  5.8861\n",
      "2021-06-28 13:14:06,325 - DeepRL - DEBUG - global iter =   26 total obj:  5.6782\n",
      "2021-06-28 13:14:06,342 - DeepRL - DEBUG - global iter =   27 total obj:  5.4803\n",
      "2021-06-28 13:14:06,357 - DeepRL - DEBUG - global iter =   28 total obj:  5.2926\n",
      "2021-06-28 13:14:06,372 - DeepRL - DEBUG - global iter =   29 total obj:  5.1150\n",
      "2021-06-28 13:14:06,373 - DeepRL - DEBUG - started testing...\n",
      "2021-06-28 13:14:06,794 - DeepRL - DEBUG - finished testing.\n"
     ]
    },
    {
     "name": "stdout",
     "output_type": "stream",
     "text": [
      "INFO:tensorflow:../results/model-30/model.cptk is not in all_model_checkpoint_paths. Manually adding it.\n"
     ]
    },
    {
     "name": "stderr",
     "output_type": "stream",
     "text": [
      "2021-06-28 13:14:07,017 - DeepRL - DEBUG - global iter =   30 total obj:  4.9475\n",
      "2021-06-28 13:14:07,038 - DeepRL - DEBUG - global iter =   31 total obj:  4.7901\n",
      "2021-06-28 13:14:07,059 - DeepRL - DEBUG - global iter =   32 total obj:  4.6426\n",
      "2021-06-28 13:14:07,079 - DeepRL - DEBUG - global iter =   33 total obj:  4.5051\n",
      "2021-06-28 13:14:07,098 - DeepRL - DEBUG - global iter =   34 total obj:  4.3775\n",
      "2021-06-28 13:14:07,118 - DeepRL - DEBUG - global iter =   35 total obj:  4.2598\n",
      "2021-06-28 13:14:07,139 - DeepRL - DEBUG - global iter =   36 total obj:  4.1518\n",
      "2021-06-28 13:14:07,158 - DeepRL - DEBUG - global iter =   37 total obj:  4.0530\n",
      "2021-06-28 13:14:07,176 - DeepRL - DEBUG - global iter =   38 total obj:  3.9629\n",
      "2021-06-28 13:14:07,192 - DeepRL - DEBUG - global iter =   39 total obj:  3.8807\n",
      "2021-06-28 13:14:07,193 - DeepRL - DEBUG - started testing...\n",
      "2021-06-28 13:14:07,653 - DeepRL - DEBUG - finished testing.\n"
     ]
    },
    {
     "name": "stdout",
     "output_type": "stream",
     "text": [
      "INFO:tensorflow:../results/model-40/model.cptk is not in all_model_checkpoint_paths. Manually adding it.\n"
     ]
    },
    {
     "name": "stderr",
     "output_type": "stream",
     "text": [
      "2021-06-28 13:14:07,879 - DeepRL - DEBUG - global iter =   40 total obj:  3.8059\n",
      "2021-06-28 13:14:07,900 - DeepRL - DEBUG - global iter =   41 total obj:  3.7376\n",
      "2021-06-28 13:14:07,922 - DeepRL - DEBUG - global iter =   42 total obj:  3.6753\n",
      "2021-06-28 13:14:07,943 - DeepRL - DEBUG - global iter =   43 total obj:  3.6181\n",
      "2021-06-28 13:14:07,964 - DeepRL - DEBUG - global iter =   44 total obj:  3.5657\n",
      "2021-06-28 13:14:07,985 - DeepRL - DEBUG - global iter =   45 total obj:  3.5174\n",
      "2021-06-28 13:14:08,003 - DeepRL - DEBUG - global iter =   46 total obj:  3.4728\n",
      "2021-06-28 13:14:08,017 - DeepRL - DEBUG - global iter =   47 total obj:  3.4315\n",
      "2021-06-28 13:14:08,030 - DeepRL - DEBUG - global iter =   48 total obj:  3.3932\n",
      "2021-06-28 13:14:08,045 - DeepRL - DEBUG - global iter =   49 total obj:  3.3575\n",
      "2021-06-28 13:14:08,045 - DeepRL - DEBUG - opt finished.\n",
      "2021-06-28 13:14:08,046 - DeepRL - DEBUG - started testing...\n",
      "2021-06-28 13:14:08,522 - DeepRL - DEBUG - finished testing.\n"
     ]
    },
    {
     "name": "stdout",
     "output_type": "stream",
     "text": [
      "INFO:tensorflow:../results/model-final/model.cptk is not in all_model_checkpoint_paths. Manually adding it.\n"
     ]
    }
   ],
   "source": [
    "with LogFile(output_path, 'run.log'):\n",
    "    OptBEH.optimise(worker, output_path, data, test_data,\n",
    "                    learning_rate=0.01,\n",
    "                    global_iters=50,\n",
    "                    load_model_path=None,\n",
    "                    test_period=10\n",
    "                    )"
   ]
  },
  {
   "cell_type": "code",
   "execution_count": null,
   "metadata": {},
   "outputs": [],
   "source": []
  }
 ],
 "metadata": {
  "kernelspec": {
   "display_name": "Python 3",
   "language": "python",
   "name": "python3"
  },
  "language_info": {
   "codemirror_mode": {
    "name": "ipython",
    "version": 3
   },
   "file_extension": ".py",
   "mimetype": "text/x-python",
   "name": "python",
   "nbconvert_exporter": "python",
   "pygments_lexer": "ipython3",
   "version": "3.7.9"
  }
 },
 "nbformat": 4,
 "nbformat_minor": 1
}
