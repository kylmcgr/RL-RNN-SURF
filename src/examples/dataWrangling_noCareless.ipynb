{
 "cells": [
  {
   "cell_type": "code",
   "execution_count": 1,
   "id": "985da879",
   "metadata": {},
   "outputs": [
    {
     "name": "stdout",
     "output_type": "stream",
     "text": [
      "C:\\Users\\User\\Documents\\SURF 2021\\RL RNN SURF\\src\n"
     ]
    }
   ],
   "source": [
    "cd .."
   ]
  },
  {
   "cell_type": "code",
   "execution_count": 2,
   "id": "699515cb",
   "metadata": {},
   "outputs": [],
   "source": [
    "import pandas as pd\n",
    "import os\n",
    "\n",
    "scores = pd.read_csv(\"selfReportScores.csv\")\n",
    "cie = pd.read_csv(\"CIE_measures.csv\")\n",
    "merged = scores.merge(cie, on='workerId')\n",
    "\n",
    "directory = r'C:\\Users\\User\\Documents\\SURF 2021\\RL RNN SURF\\src\\taskData'\n",
    "frames = [pd.read_csv('taskData\\\\'+filename) for filename in os.listdir(directory)]\n",
    "taskData = pd.concat(frames, ignore_index=True)"
   ]
  },
  {
   "cell_type": "code",
   "execution_count": 3,
   "id": "34ccb75e",
   "metadata": {},
   "outputs": [
    {
     "name": "stdout",
     "output_type": "stream",
     "text": [
      "1197 917 755\n"
     ]
    },
    {
     "name": "stderr",
     "output_type": "stream",
     "text": [
      "c:\\users\\user\\documents\\surf 2021\\rl rnn surf\\venv\\lib\\site-packages\\ipykernel_launcher.py:2: UserWarning: Boolean Series key will be reindexed to match DataFrame index.\n",
      "  \n",
      "c:\\users\\user\\documents\\surf 2021\\rl rnn surf\\venv\\lib\\site-packages\\ipykernel_launcher.py:2: UserWarning: Boolean Series key will be reindexed to match DataFrame index.\n",
      "  \n",
      "c:\\users\\user\\documents\\surf 2021\\rl rnn surf\\venv\\lib\\site-packages\\ipykernel_launcher.py:2: UserWarning: Boolean Series key will be reindexed to match DataFrame index.\n",
      "  \n",
      "c:\\users\\user\\documents\\surf 2021\\rl rnn surf\\venv\\lib\\site-packages\\ipykernel_launcher.py:2: UserWarning: Boolean Series key will be reindexed to match DataFrame index.\n",
      "  \n",
      "c:\\users\\user\\documents\\surf 2021\\rl rnn surf\\venv\\lib\\site-packages\\ipykernel_launcher.py:2: UserWarning: Boolean Series key will be reindexed to match DataFrame index.\n",
      "  \n"
     ]
    }
   ],
   "source": [
    "crit = pd.read_csv(\"excl_crit.csv\")\n",
    "nocareless = crit[crit.survey_catchcorr!=True][crit.survey_irv_min!=True][crit.survey_reliable!=True][crit.survey_rt_min!=True][crit.survey_psychsyn!=True][crit.survey_psychant!=True][crit.task_redo_max!=True]\n",
    "workerIds = nocareless[nocareless['workerId'].isin(taskData['workerId'])]['workerId']\n",
    "print(crit.shape[0], nocareless.shape[0], workerIds.shape[0])"
   ]
  },
  {
   "cell_type": "code",
   "execution_count": 4,
   "id": "085e7fed",
   "metadata": {},
   "outputs": [
    {
     "name": "stdout",
     "output_type": "stream",
     "text": [
      "1197 755\n"
     ]
    }
   ],
   "source": [
    "merged_nocareless = merged[merged['workerId'].isin(workerIds)]\n",
    "print(merged.shape[0], merged_nocareless.shape[0])"
   ]
  },
  {
   "cell_type": "code",
   "execution_count": 5,
   "id": "c4b7ed2e",
   "metadata": {},
   "outputs": [],
   "source": [
    "# train_all = workerIds.sample(n = 300)\n",
    "# test_all = workerIds[~workerIds.isin(train_all)]\n",
    "# train_all.to_csv('train_all.csv', index=False)\n",
    "# test_all.to_csv('test_all.csv', index=False)"
   ]
  },
  {
   "cell_type": "code",
   "execution_count": 6,
   "id": "b33a2c5a",
   "metadata": {},
   "outputs": [],
   "source": [
    "length = merged_nocareless.shape[0]\n",
    "quartile = int(length/4)\n",
    "first_quartile = range(0,quartile)\n",
    "last_quartile = range(length-quartile,length)\n",
    "trainsize = int(0.8*quartile)"
   ]
  },
  {
   "cell_type": "code",
   "execution_count": 7,
   "id": "245ee48e",
   "metadata": {},
   "outputs": [],
   "source": [
    "bdi = merged_nocareless.sort_values(by=['BDI.II'], ignore_index=True)\n",
    "bdiTop = bdi['workerId'][first_quartile]\n",
    "# train_bdiTop = bdiTop.sample(n = trainsize)\n",
    "# test_bdiTop = bdiTop[~bdiTop.isin(train_bdiTop)]\n",
    "# train_bdiTop.to_csv('train_bdiTop.csv', index=False)\n",
    "# test_bdiTop.to_csv('test_bdiTop.csv', index=False)\n",
    "bdiBottom = bdi['workerId'][last_quartile]\n",
    "# train_bdiBottom = bdiBottom.sample(n = trainsize)\n",
    "# test_bdiBottom = bdiBottom[~bdiBottom.isin(train_bdiBottom)]\n",
    "# train_bdiBottom.to_csv('train_bdiBottom.csv', index=False)\n",
    "# test_bdiBottom.to_csv('test_bdiBottom.csv', index=False)"
   ]
  },
  {
   "cell_type": "code",
   "execution_count": 10,
   "id": "53dbb4f5",
   "metadata": {},
   "outputs": [
    {
     "data": {
      "text/plain": [
       "567    19.0\n",
       "568    19.0\n",
       "569    19.0\n",
       "570    19.0\n",
       "571    19.0\n",
       "       ... \n",
       "750    49.0\n",
       "751    51.0\n",
       "752    55.0\n",
       "753    57.0\n",
       "754     NaN\n",
       "Name: BDI.II, Length: 188, dtype: float64"
      ]
     },
     "execution_count": 10,
     "metadata": {},
     "output_type": "execute_result"
    }
   ],
   "source": [
    "bdi['BDI.II'][last_quartile]"
   ]
  },
  {
   "cell_type": "code",
   "execution_count": 84,
   "id": "2525d868",
   "metadata": {},
   "outputs": [
    {
     "name": "stdout",
     "output_type": "stream",
     "text": [
      "C:\\Users\\User\\Documents\\SURF 2021\\RL RNN SURF\\src\\nocareless_traintest\n"
     ]
    }
   ],
   "source": [
    "cd nocareless_traintest"
   ]
  },
  {
   "cell_type": "code",
   "execution_count": 85,
   "id": "353085fe",
   "metadata": {},
   "outputs": [],
   "source": [
    "train_bdiTop = pd.read_csv(\"train_bdiTop.csv\")['workerId']\n",
    "train_bdiBottom = pd.read_csv(\"train_bdiBottom.csv\")['workerId']\n",
    "test_bdiTop = pd.read_csv(\"test_bdiTop.csv\")['workerId']\n",
    "test_bdiBottom = pd.read_csv(\"test_bdiBottom.csv\")['workerId']\n",
    "train_all = pd.read_csv(\"train_all.csv\")['workerId']\n",
    "test_all = pd.read_csv(\"test_all.csv\")['workerId']"
   ]
  },
  {
   "cell_type": "code",
   "execution_count": 86,
   "id": "0b97e284",
   "metadata": {},
   "outputs": [
    {
     "name": "stdout",
     "output_type": "stream",
     "text": [
      "C:\\Users\\User\\Documents\\SURF 2021\\RL RNN SURF\\src\n"
     ]
    }
   ],
   "source": [
    "cd .."
   ]
  },
  {
   "cell_type": "code",
   "execution_count": 87,
   "id": "0ad7e36d",
   "metadata": {},
   "outputs": [
    {
     "name": "stdout",
     "output_type": "stream",
     "text": [
      "C:\\Users\\User\\Documents\\SURF 2021\\RL RNN SURF\\src\\nocareless_data\n"
     ]
    }
   ],
   "source": [
    "cd nocareless_data"
   ]
  },
  {
   "cell_type": "code",
   "execution_count": 88,
   "id": "ee1d6afb",
   "metadata": {},
   "outputs": [],
   "source": [
    "taskData_train_bdiTop = taskData[taskData['workerId'].isin(train_bdiTop)]\n",
    "taskData_train_bdiBottom = taskData[taskData['workerId'].isin(train_bdiBottom)]\n",
    "taskData_train_bdiTop = taskData_train_bdiTop.dropna(subset=['blockID', 'outcome', 'respKey', 'trialStimID_1', 'trialStimID_2'])\n",
    "taskData_train_bdiBottom = taskData_train_bdiBottom.dropna(subset=['blockID', 'outcome', 'respKey', 'trialStimID_1', 'trialStimID_2'])\n",
    "taskData_train_bdiTop.to_csv('taskData_train_bdiTop.csv', index=False)\n",
    "taskData_train_bdiBottom.to_csv('taskData_train_bdiBottom.csv', index=False)\n",
    "\n",
    "taskData_test_bdiTop = taskData[taskData['workerId'].isin(test_bdiTop)]\n",
    "taskData_test_bdiBottom = taskData[taskData['workerId'].isin(test_bdiBottom)]\n",
    "taskData_test_bdiTop = taskData_test_bdiTop.dropna(subset=['blockID', 'outcome', 'respKey', 'trialStimID_1', 'trialStimID_2'])\n",
    "taskData_test_bdiBottom = taskData_test_bdiBottom.dropna(subset=['blockID', 'outcome', 'respKey', 'trialStimID_1', 'trialStimID_2'])\n",
    "taskData_test_bdiTop.to_csv('taskData_test_bdiTop.csv', index=False)\n",
    "taskData_test_bdiBottom.to_csv('taskData_test_bdiBottom.csv', index=False)\n",
    "\n",
    "taskData_train_all = taskData[taskData['workerId'].isin(train_all)]\n",
    "taskData_train_all = taskData_train_all.dropna(subset=['blockID', 'outcome', 'respKey', 'trialStimID_1', 'trialStimID_2'])\n",
    "taskData_train_all.to_csv('taskData_train_all.csv', index=False)\n",
    "\n",
    "taskData_test_all = taskData[taskData['workerId'].isin(test_all)]\n",
    "taskData_test_all = taskData_test_all.dropna(subset=['blockID', 'outcome', 'respKey', 'trialStimID_1', 'trialStimID_2'])\n",
    "taskData_test_all.to_csv('taskData_test_all.csv', index=False)"
   ]
  },
  {
   "cell_type": "code",
   "execution_count": 89,
   "id": "89713187",
   "metadata": {},
   "outputs": [
    {
     "name": "stdout",
     "output_type": "stream",
     "text": [
      "C:\\Users\\User\\Documents\\SURF 2021\\RL RNN SURF\\src\n"
     ]
    }
   ],
   "source": [
    "cd .."
   ]
  },
  {
   "cell_type": "code",
   "execution_count": 2,
   "id": "0c78a19b",
   "metadata": {},
   "outputs": [],
   "source": [
    "import numpy as np\n",
    "import csv"
   ]
  },
  {
   "cell_type": "code",
   "execution_count": 40,
   "id": "9883a7d0",
   "metadata": {
    "scrolled": false
   },
   "outputs": [],
   "source": [
    "data={}\n",
    "with open('nocareless_policy\\\\taskData_all.csv', 'r' ) as theFile:\n",
    "    reader = csv.reader(theFile)\n",
    "    headers = next(reader, None)\n",
    "    for line in reader:\n",
    "        if line[3] in workerIds.values.tolist():\n",
    "            if line[3] not in data:\n",
    "                data[line[3]] = []\n",
    "            data[line[3]].append(line)\n",
    "rlpOption={}\n",
    "with open('nocareless_rlpOption_train.csv', 'r' ) as theFile:\n",
    "    reader = csv.reader(theFile)\n",
    "#     headers = next(reader, None)\n",
    "    for line in reader:\n",
    "#         print(line)\n",
    "        if line[0] in data:\n",
    "            if line[0] not in rlpOption:\n",
    "                rlpOption[line[0]] = []\n",
    "                i = 0\n",
    "            if line[1] != 'NaN':\n",
    "                data[line[0]][i].append(line[1])\n",
    "                data[line[0]][i].append(line[2])\n",
    "                i += 1"
   ]
  },
  {
   "cell_type": "code",
   "execution_count": 41,
   "id": "2802f463",
   "metadata": {},
   "outputs": [],
   "source": [
    "results = [['id','varRNN','varRL']]\n",
    "for i in data:\n",
    "    varRNN = sum([np.log(float(pred[1])) for pred in data[i]])\n",
    "    varRL = sum([np.log(float(pred[5])) for pred in data[i] if len(pred)>5])\n",
    "    results.append([i,varRNN,varRL])\n",
    "np.savetxt(\"nocareless_lle\\\\results_all.csv\", \n",
    "           results,\n",
    "           delimiter =\", \", \n",
    "           fmt ='% s')"
   ]
  },
  {
   "cell_type": "code",
   "execution_count": 64,
   "id": "73c9eedd",
   "metadata": {},
   "outputs": [],
   "source": [
    "data={}\n",
    "with open('nocareless_policy\\\\taskData_bdiTop.csv', 'r' ) as theFile:\n",
    "    reader = csv.reader(theFile)\n",
    "    headers = next(reader, None)\n",
    "    for line in reader:\n",
    "        if line[3] in bdiTop.values.tolist():\n",
    "            if line[3] not in data:\n",
    "                data[line[3]] = []\n",
    "            data[line[3]].append(line)\n",
    "choice_data={}\n",
    "with open('nocareless_data\\\\taskData_test_bdiTop.csv', 'r' ) as theFile:\n",
    "    reader = csv.reader(theFile)\n",
    "    headers = next(reader, None)\n",
    "    for line in reader:\n",
    "        if line[70] in data:\n",
    "            if line[70] not in choice_data:\n",
    "                choice_data[line[70]] = []\n",
    "                i = 0\n",
    "            if line[8] != 'NaN':\n",
    "                data[line[70]][i].append(int(float(line[8]))-1)\n",
    "                i += 1\n",
    "rlpOption={}\n",
    "with open('nocareless_rlpOption_testTopBDI.csv', 'r' ) as theFile:\n",
    "    reader = csv.reader(theFile)\n",
    "#     headers = next(reader, None)\n",
    "    for line in reader:\n",
    "        if line[0] in data:\n",
    "            if line[0] not in rlpOption:\n",
    "                rlpOption[line[0]] = []\n",
    "                i = 0\n",
    "            if line[1] != 'NaN':\n",
    "                data[line[0]][i].append(line[1])\n",
    "                data[line[0]][i].append(line[2])\n",
    "                i += 1"
   ]
  },
  {
   "cell_type": "code",
   "execution_count": 67,
   "id": "2078cebf",
   "metadata": {},
   "outputs": [],
   "source": [
    "results = [['id','varRNN','varRL']]\n",
    "for i in data:\n",
    "    varRNN = sum([np.log(float(pred[1+pred[5]])) for pred in data[i] if len(pred)>7])\n",
    "    varRL = sum([np.log(float(pred[6+pred[5]])) for pred in data[i] if len(pred)>7])\n",
    "    results.append([i,varRNN,varRL])\n",
    "np.savetxt(\"nocareless_lle\\\\results_bdiTop.csv\", \n",
    "           results,\n",
    "           delimiter =\", \", \n",
    "           fmt ='% s')"
   ]
  },
  {
   "cell_type": "code",
   "execution_count": 87,
   "id": "8551c10b",
   "metadata": {},
   "outputs": [],
   "source": [
    "data={}\n",
    "with open('nocareless_policy\\\\taskData_bdiBottom.csv', 'r' ) as theFile:\n",
    "    reader = csv.reader(theFile)\n",
    "    headers = next(reader, None)\n",
    "    for line in reader:\n",
    "        if line[3] in bdiBottom.values.tolist():\n",
    "            if line[3] not in data:\n",
    "                data[line[3]] = []\n",
    "            data[line[3]].append(line)\n",
    "choice_data={}\n",
    "with open('nocareless_data\\\\taskData_test_bdiBottom.csv', 'r' ) as theFile:\n",
    "    reader = csv.reader(theFile)\n",
    "    headers = next(reader, None)\n",
    "    for line in reader:\n",
    "        if line[70] in data:\n",
    "            if line[70] not in choice_data:\n",
    "                choice_data[line[70]] = []\n",
    "                i = 0\n",
    "            if line[8] != 'NaN':\n",
    "                data[line[70]][i].append(int(float(line[8]))-1)\n",
    "                i += 1\n",
    "rlpOption={}\n",
    "with open('nocareless_rlpOption_testBottomBDI.csv', 'r' ) as theFile:\n",
    "    reader = csv.reader(theFile)\n",
    "#     headers = next(reader, None)\n",
    "    for line in reader:\n",
    "        if line[0] in data:\n",
    "            if line[0] not in rlpOption:\n",
    "                rlpOption[line[0]] = []\n",
    "                i = 0\n",
    "            if line[1] != 'NaN':\n",
    "                data[line[0]][i].append(line[1])\n",
    "                data[line[0]][i].append(line[2])\n",
    "                i += 1"
   ]
  },
  {
   "cell_type": "code",
   "execution_count": 88,
   "id": "89189d46",
   "metadata": {},
   "outputs": [],
   "source": [
    "results = [['id','varRNN','varRL']]\n",
    "for i in data:\n",
    "    varRNN = sum([np.log(float(pred[1+pred[5]])) for pred in data[i] if len(pred)>7])\n",
    "    varRL = sum([np.log(float(pred[6+pred[5]])) for pred in data[i] if len(pred)>7])\n",
    "    results.append([i,varRNN,varRL])\n",
    "np.savetxt(\"nocareless_lle\\\\results_bdiBottom.csv\", \n",
    "           results,\n",
    "           delimiter =\", \", \n",
    "           fmt ='% s')"
   ]
  },
  {
   "cell_type": "code",
   "execution_count": 112,
   "id": "b6248813",
   "metadata": {},
   "outputs": [],
   "source": [
    "data={}\n",
    "with open('nocareless_policy\\\\taskData_all.csv', 'r' ) as theFile:\n",
    "    reader = csv.reader(theFile)\n",
    "    headers = next(reader, None)\n",
    "    for line in reader:\n",
    "        if line[3] in workerIds.values.tolist():\n",
    "            if line[3] not in data:\n",
    "                data[line[3]] = []\n",
    "            data[line[3]].append(line)\n",
    "choice_data={}\n",
    "with open('nocareless_data\\\\taskData_test_all.csv', 'r' ) as theFile:\n",
    "    reader = csv.reader(theFile)\n",
    "    headers = next(reader, None)\n",
    "    for line in reader:\n",
    "        if line[70] in data:\n",
    "            if line[70] not in choice_data:\n",
    "                choice_data[line[70]] = []\n",
    "                i = 0\n",
    "            if line[8] != 'NaN':\n",
    "                data[line[70]][i].append(int(float(line[8]))-1)\n",
    "                i += 1\n",
    "rlpOption={}\n",
    "curr=\"\"\n",
    "with open('nocareless_rlpOption_train.csv', 'r' ) as theFile:\n",
    "    reader = csv.reader(theFile)\n",
    "#     headers = next(reader, None)\n",
    "    for line in reader:\n",
    "        if line[0] in data:\n",
    "#             print(line)\n",
    "            if line[0] not in rlpOption:\n",
    "#                 print('new', line)\n",
    "                rlpOption[line[0]] = []\n",
    "                curr = line[0]\n",
    "                i = 0\n",
    "            if line[0] in rlpOption and line[0] == curr:\n",
    "                if line[1] != 'NaN':\n",
    "                    data[line[0]][i].append(line[1])\n",
    "                    data[line[0]][i].append(line[2])\n",
    "                    i += 1"
   ]
  },
  {
   "cell_type": "code",
   "execution_count": 113,
   "id": "667b1eeb",
   "metadata": {},
   "outputs": [],
   "source": [
    "results = [['id','varRNN','varRL']]\n",
    "for i in data:\n",
    "    varRNN = sum([np.log(float(pred[1+pred[5]])) for pred in data[i] if len(pred)>7])\n",
    "    varRL = sum([np.log(float(pred[6+pred[5]])) for pred in data[i] if len(pred)>7])\n",
    "    results.append([i,varRNN,varRL])\n",
    "np.savetxt(\"nocareless_lle\\\\results_full.csv\", \n",
    "           results,\n",
    "           delimiter =\", \", \n",
    "           fmt ='% s')"
   ]
  }
 ],
 "metadata": {
  "kernelspec": {
   "display_name": "Python 3",
   "language": "python",
   "name": "python3"
  },
  "language_info": {
   "codemirror_mode": {
    "name": "ipython",
    "version": 3
   },
   "file_extension": ".py",
   "mimetype": "text/x-python",
   "name": "python",
   "nbconvert_exporter": "python",
   "pygments_lexer": "ipython3",
   "version": "3.7.9"
  }
 },
 "nbformat": 4,
 "nbformat_minor": 5
}
