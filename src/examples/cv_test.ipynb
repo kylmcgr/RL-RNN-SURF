{
 "cells": [
  {
   "cell_type": "code",
   "execution_count": 1,
   "id": "20906fda",
   "metadata": {},
   "outputs": [
    {
     "name": "stdout",
     "output_type": "stream",
     "text": [
      "C:\\Users\\User\\Documents\\SURF 2021\\RL RNN SURF\\src\n"
     ]
    }
   ],
   "source": [
    "cd .."
   ]
  },
  {
   "cell_type": "code",
   "execution_count": 2,
   "id": "ba620bb4",
   "metadata": {},
   "outputs": [
    {
     "name": "stderr",
     "output_type": "stream",
     "text": [
      "c:\\users\\user\\documents\\surf 2021\\rl rnn surf\\venv\\lib\\site-packages\\tensorflow\\python\\framework\\dtypes.py:526: FutureWarning: Passing (type, 1) or '1type' as a synonym of type is deprecated; in a future version of numpy, it will be understood as (type, (1,)) / '(1,)type'.\n",
      "  _np_qint8 = np.dtype([(\"qint8\", np.int8, 1)])\n",
      "c:\\users\\user\\documents\\surf 2021\\rl rnn surf\\venv\\lib\\site-packages\\tensorflow\\python\\framework\\dtypes.py:527: FutureWarning: Passing (type, 1) or '1type' as a synonym of type is deprecated; in a future version of numpy, it will be understood as (type, (1,)) / '(1,)type'.\n",
      "  _np_quint8 = np.dtype([(\"quint8\", np.uint8, 1)])\n",
      "c:\\users\\user\\documents\\surf 2021\\rl rnn surf\\venv\\lib\\site-packages\\tensorflow\\python\\framework\\dtypes.py:528: FutureWarning: Passing (type, 1) or '1type' as a synonym of type is deprecated; in a future version of numpy, it will be understood as (type, (1,)) / '(1,)type'.\n",
      "  _np_qint16 = np.dtype([(\"qint16\", np.int16, 1)])\n",
      "c:\\users\\user\\documents\\surf 2021\\rl rnn surf\\venv\\lib\\site-packages\\tensorflow\\python\\framework\\dtypes.py:529: FutureWarning: Passing (type, 1) or '1type' as a synonym of type is deprecated; in a future version of numpy, it will be understood as (type, (1,)) / '(1,)type'.\n",
      "  _np_quint16 = np.dtype([(\"quint16\", np.uint16, 1)])\n",
      "c:\\users\\user\\documents\\surf 2021\\rl rnn surf\\venv\\lib\\site-packages\\tensorflow\\python\\framework\\dtypes.py:530: FutureWarning: Passing (type, 1) or '1type' as a synonym of type is deprecated; in a future version of numpy, it will be understood as (type, (1,)) / '(1,)type'.\n",
      "  _np_qint32 = np.dtype([(\"qint32\", np.int32, 1)])\n",
      "c:\\users\\user\\documents\\surf 2021\\rl rnn surf\\venv\\lib\\site-packages\\tensorflow\\python\\framework\\dtypes.py:535: FutureWarning: Passing (type, 1) or '1type' as a synonym of type is deprecated; in a future version of numpy, it will be understood as (type, (1,)) / '(1,)type'.\n",
      "  np_resource = np.dtype([(\"resource\", np.ubyte, 1)])\n"
     ]
    }
   ],
   "source": [
    "import sys\n",
    "from multiprocessing.pool import Pool\n",
    "from actionflow.data.data_process import DataProcess\n",
    "from actionflow.rnn.lstm_beh import LSTMBeh\n",
    "from actionflow.rnn.opt_beh import OptBEH\n",
    "from actionflow.util.helper import cv_list, get_total_pionts\n",
    "from actionflow.util.logger import LogFile, DLogger\n",
    "from GL.data.data_reader import DataReader\n",
    "from GL.util.paths import Paths\n",
    "import tensorflow as tf"
   ]
  },
  {
   "cell_type": "code",
   "execution_count": 25,
   "id": "69a794ea",
   "metadata": {},
   "outputs": [],
   "source": [
    "cv_counts = 10\n",
    "cv_lists = {}\n",
    "data = DataReader.read_GL()\n",
    "ids=list(data.keys())\n",
    "cv_lists = cv_list(ids, cv_counts)"
   ]
  },
  {
   "cell_type": "code",
   "execution_count": 31,
   "id": "ceb319ff",
   "metadata": {},
   "outputs": [],
   "source": [
    "configs = []\n",
    "\n",
    "for lr in [1e-2]:\n",
    "    for cells in [5, 10, 20, 30]:\n",
    "        for i in range(cv_counts):\n",
    "            configs.append({'lr': lr, 'cells': cells, 'cv_index': i})"
   ]
  },
  {
   "cell_type": "code",
   "execution_count": 35,
   "id": "4e96d103",
   "metadata": {},
   "outputs": [],
   "source": [
    "def run_GL_RNN(i):\n",
    "    tf.reset_default_graph()\n",
    "    ncells = configs[i]['cells']\n",
    "    learning_rate = configs[i]['lr']\n",
    "    cv_index = configs[i]['cv_index']\n",
    "\n",
    "    output_path = Paths.local_path + 'GL/rnn-cv/' + str(ncells) + 'cells/' + 'fold' + str(cv_index) + '/'\n",
    "    with LogFile(output_path, 'run.log'):\n",
    "        indx_data = cv_lists_group[group][cv_index]\n",
    "        gdata = data.loc[data.diag == group]\n",
    "        train, test = DataProcess.train_test_between_subject(gdata, indx_data,\n",
    "                                                             [1, 2, 3, 4, 5, 6, 7, 8, 9, 10, 11, 12])\n",
    "\n",
    "        indx_data.to_csv(output_path + 'train_test.csv')\n",
    "        train_merged = DataProcess.merge_data(train)\n",
    "        DLogger.logger().debug(\"total points: \" + str(get_total_pionts(train_merged)))\n",
    "        del train\n",
    "\n",
    "        worker = LSTMBeh(2, 0, n_cells=ncells)\n",
    "        OptBEH.optimise(worker, output_path, train_merged, None,\n",
    "                        learning_rate=learning_rate,\n",
    "                        global_iters=3000,\n",
    "                        load_model_path='../inits/rnn-init/' + str(ncells) + 'cells/model-final/'\n",
    "                        )"
   ]
  },
  {
   "cell_type": "code",
   "execution_count": 37,
   "id": "e436b149",
   "metadata": {},
   "outputs": [
    {
     "data": {
      "text/plain": [
       "'../nongit/results/local/'"
      ]
     },
     "execution_count": 37,
     "metadata": {},
     "output_type": "execute_result"
    }
   ],
   "source": [
    "Paths.local_path"
   ]
  },
  {
   "cell_type": "code",
   "execution_count": 36,
   "id": "a5125dba",
   "metadata": {},
   "outputs": [
    {
     "name": "stderr",
     "output_type": "stream",
     "text": [
      "2021-07-06 12:13:42,630 - DeepRL - DEBUG - version control: (None, None)\n"
     ]
    },
    {
     "ename": "NameError",
     "evalue": "name 'cv_lists_group' is not defined",
     "output_type": "error",
     "traceback": [
      "\u001b[1;31m---------------------------------------------------------------------------\u001b[0m",
      "\u001b[1;31mNameError\u001b[0m                                 Traceback (most recent call last)",
      "\u001b[1;32m<ipython-input-36-3690337d296d>\u001b[0m in \u001b[0;36m<module>\u001b[1;34m\u001b[0m\n\u001b[1;32m----> 1\u001b[1;33m \u001b[0mrun_GL_RNN\u001b[0m\u001b[1;33m(\u001b[0m\u001b[1;36m0\u001b[0m\u001b[1;33m)\u001b[0m\u001b[1;33m\u001b[0m\u001b[1;33m\u001b[0m\u001b[0m\n\u001b[0m",
      "\u001b[1;32m<ipython-input-35-08bd08963c69>\u001b[0m in \u001b[0;36mrun_GL_RNN\u001b[1;34m(i)\u001b[0m\n\u001b[0;32m      7\u001b[0m     \u001b[0moutput_path\u001b[0m \u001b[1;33m=\u001b[0m \u001b[0mPaths\u001b[0m\u001b[1;33m.\u001b[0m\u001b[0mlocal_path\u001b[0m \u001b[1;33m+\u001b[0m \u001b[1;34m'BD/rnn-cv/'\u001b[0m \u001b[1;33m+\u001b[0m \u001b[0mstr\u001b[0m\u001b[1;33m(\u001b[0m\u001b[0mncells\u001b[0m\u001b[1;33m)\u001b[0m \u001b[1;33m+\u001b[0m \u001b[1;34m'cells/'\u001b[0m \u001b[1;33m+\u001b[0m \u001b[1;34m'fold'\u001b[0m \u001b[1;33m+\u001b[0m \u001b[0mstr\u001b[0m\u001b[1;33m(\u001b[0m\u001b[0mcv_index\u001b[0m\u001b[1;33m)\u001b[0m \u001b[1;33m+\u001b[0m \u001b[1;34m'/'\u001b[0m\u001b[1;33m\u001b[0m\u001b[1;33m\u001b[0m\u001b[0m\n\u001b[0;32m      8\u001b[0m     \u001b[1;32mwith\u001b[0m \u001b[0mLogFile\u001b[0m\u001b[1;33m(\u001b[0m\u001b[0moutput_path\u001b[0m\u001b[1;33m,\u001b[0m \u001b[1;34m'run.log'\u001b[0m\u001b[1;33m)\u001b[0m\u001b[1;33m:\u001b[0m\u001b[1;33m\u001b[0m\u001b[1;33m\u001b[0m\u001b[0m\n\u001b[1;32m----> 9\u001b[1;33m         \u001b[0mindx_data\u001b[0m \u001b[1;33m=\u001b[0m \u001b[0mcv_lists_group\u001b[0m\u001b[1;33m[\u001b[0m\u001b[0mgroup\u001b[0m\u001b[1;33m]\u001b[0m\u001b[1;33m[\u001b[0m\u001b[0mcv_index\u001b[0m\u001b[1;33m]\u001b[0m\u001b[1;33m\u001b[0m\u001b[1;33m\u001b[0m\u001b[0m\n\u001b[0m\u001b[0;32m     10\u001b[0m         \u001b[0mgdata\u001b[0m \u001b[1;33m=\u001b[0m \u001b[0mdata\u001b[0m\u001b[1;33m.\u001b[0m\u001b[0mloc\u001b[0m\u001b[1;33m[\u001b[0m\u001b[0mdata\u001b[0m\u001b[1;33m.\u001b[0m\u001b[0mdiag\u001b[0m \u001b[1;33m==\u001b[0m \u001b[0mgroup\u001b[0m\u001b[1;33m]\u001b[0m\u001b[1;33m\u001b[0m\u001b[1;33m\u001b[0m\u001b[0m\n\u001b[0;32m     11\u001b[0m         train, test = DataProcess.train_test_between_subject(gdata, indx_data,\n",
      "\u001b[1;31mNameError\u001b[0m: name 'cv_lists_group' is not defined"
     ]
    }
   ],
   "source": [
    "run_GL_RNN(0)"
   ]
  }
 ],
 "metadata": {
  "kernelspec": {
   "display_name": "Python 3",
   "language": "python",
   "name": "python3"
  },
  "language_info": {
   "codemirror_mode": {
    "name": "ipython",
    "version": 3
   },
   "file_extension": ".py",
   "mimetype": "text/x-python",
   "name": "python",
   "nbconvert_exporter": "python",
   "pygments_lexer": "ipython3",
   "version": "3.7.9"
  }
 },
 "nbformat": 4,
 "nbformat_minor": 5
}
