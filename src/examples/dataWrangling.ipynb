{
 "cells": [
  {
   "cell_type": "code",
   "execution_count": 1,
   "id": "985da879",
   "metadata": {},
   "outputs": [
    {
     "name": "stdout",
     "output_type": "stream",
     "text": [
      "C:\\Users\\User\\Documents\\SURF 2021\\RL RNN SURF\\src\n"
     ]
    }
   ],
   "source": [
    "cd .."
   ]
  },
  {
   "cell_type": "code",
   "execution_count": 2,
   "id": "699515cb",
   "metadata": {},
   "outputs": [],
   "source": [
    "import pandas as pd\n",
    "import os\n",
    "\n",
    "scores = pd.read_csv(\"selfReportScores.csv\")\n",
    "cie = pd.read_csv(\"CIE_measures.csv\")\n",
    "merged = scores.merge(cie, on='workerId')\n",
    "\n",
    "directory = r'C:\\Users\\User\\Documents\\SURF 2021\\RL RNN SURF\\src\\taskData'\n",
    "frames = [pd.read_csv('taskData\\\\'+filename) for filename in os.listdir(directory)]\n",
    "taskData = pd.concat(frames, ignore_index=True)"
   ]
  },
  {
   "cell_type": "code",
   "execution_count": 3,
   "id": "b33a2c5a",
   "metadata": {},
   "outputs": [],
   "source": [
    "length = merged.shape[0]\n",
    "quartile = int(length/4)\n",
    "first_quartile = range(0,quartile)\n",
    "last_quartile = range(length-quartile,length)"
   ]
  },
  {
   "cell_type": "code",
   "execution_count": 4,
   "id": "98bde72b",
   "metadata": {},
   "outputs": [
    {
     "name": "stdout",
     "output_type": "stream",
     "text": [
      "C:\\Users\\User\\Documents\\SURF 2021\\RL RNN SURF\\src\\quartileData\n"
     ]
    }
   ],
   "source": [
    "cd quartileData"
   ]
  },
  {
   "cell_type": "code",
   "execution_count": 5,
   "id": "8a96fe39",
   "metadata": {},
   "outputs": [],
   "source": [
    "barratt = merged.sort_values(by=['Barratt'], ignore_index=True)\n",
    "barrattTop = barratt['workerId'][first_quartile]\n",
    "barrattBottom = barratt['workerId'][last_quartile]\n",
    "taskData_barrattTop = taskData[taskData['workerId'].isin(barrattTop)]\n",
    "taskData_barrattBottom = taskData[taskData['workerId'].isin(barrattBottom)]\n",
    "taskData_barrattTop = taskData_barrattTop.dropna(subset=['blockID', 'outcome', 'respKey', 'trialStimID_1', 'trialStimID_2'])\n",
    "taskData_barrattBottom = taskData_barrattBottom.dropna(subset=['blockID', 'outcome', 'respKey', 'trialStimID_1', 'trialStimID_2'])\n",
    "taskData_barrattTop.to_csv('taskData_barrattTop.csv', index=False)\n",
    "taskData_barrattBottom.to_csv('taskData_barrattBottom.csv', index=False)"
   ]
  },
  {
   "cell_type": "code",
   "execution_count": 6,
   "id": "cebfe840",
   "metadata": {},
   "outputs": [],
   "source": [
    "stai = merged.sort_values(by=['STAI.T'], ignore_index=True)\n",
    "staiTop = stai['workerId'][first_quartile]\n",
    "staiBottom = stai['workerId'][last_quartile]\n",
    "taskData_staiTop = taskData[taskData['workerId'].isin(staiTop)]\n",
    "taskData_staiBottom = taskData[taskData['workerId'].isin(staiBottom)]\n",
    "taskData_staiTop = taskData_staiTop.dropna(subset=['blockID', 'outcome', 'respKey', 'trialStimID_1', 'trialStimID_2'])\n",
    "taskData_staiBottom = taskData_staiBottom.dropna(subset=['blockID', 'outcome', 'respKey', 'trialStimID_1', 'trialStimID_2'])\n",
    "taskData_staiTop.to_csv('taskData_staiTop.csv', index=False)\n",
    "taskData_staiBottom.to_csv('taskData_staiBottom.csv', index=False)"
   ]
  },
  {
   "cell_type": "code",
   "execution_count": 7,
   "id": "b6c0de8d",
   "metadata": {},
   "outputs": [],
   "source": [
    "bdi = merged.sort_values(by=['BDI.II'], ignore_index=True)\n",
    "bdiTop = bdi['workerId'][first_quartile]\n",
    "bdiBottom = bdi['workerId'][last_quartile]\n",
    "taskData_bdiTop = taskData[taskData['workerId'].isin(bdiTop)]\n",
    "taskData_bdiBottom = taskData[taskData['workerId'].isin(bdiBottom)]\n",
    "taskData_bdiTop = taskData_bdiTop.dropna(subset=['blockID', 'outcome', 'respKey', 'trialStimID_1', 'trialStimID_2'])\n",
    "taskData_bdiBottom = taskData_bdiBottom.dropna(subset=['blockID', 'outcome', 'respKey', 'trialStimID_1', 'trialStimID_2'])\n",
    "taskData_bdiTop.to_csv('taskData_bdiTop.csv', index=False)\n",
    "taskData_bdiBottom.to_csv('taskData_bdiBottom.csv', index=False)"
   ]
  },
  {
   "cell_type": "code",
   "execution_count": 8,
   "id": "478802ee",
   "metadata": {},
   "outputs": [],
   "source": [
    "bis = merged.sort_values(by=['BIS.BAS'], ignore_index=True)\n",
    "bisTop = bis['workerId'][first_quartile]\n",
    "bisBottom = bis['workerId'][last_quartile]\n",
    "taskData_bisTop = taskData[taskData['workerId'].isin(bisTop)]\n",
    "taskData_bisBottom = taskData[taskData['workerId'].isin(bisBottom)]\n",
    "taskData_bisTop = taskData_bisTop.dropna(subset=['blockID', 'outcome', 'respKey', 'trialStimID_1', 'trialStimID_2'])\n",
    "taskData_bisBottom = taskData_bisBottom.dropna(subset=['blockID', 'outcome', 'respKey', 'trialStimID_1', 'trialStimID_2'])\n",
    "taskData_bisTop.to_csv('taskData_bisTop.csv', index=False)\n",
    "taskData_bisBottom.to_csv('taskData_bisBottom.csv', index=False)"
   ]
  },
  {
   "cell_type": "code",
   "execution_count": 9,
   "id": "9bb99981",
   "metadata": {},
   "outputs": [
    {
     "name": "stdout",
     "output_type": "stream",
     "text": [
      "C:\\Users\\User\\Documents\\SURF 2021\\RL RNN SURF\\src\n"
     ]
    }
   ],
   "source": [
    "cd .."
   ]
  },
  {
   "cell_type": "markdown",
   "id": "001baf6a",
   "metadata": {},
   "source": [
    "Run networks on quartile data, following code merges the predictions"
   ]
  },
  {
   "cell_type": "code",
   "execution_count": 10,
   "id": "9c9730ff",
   "metadata": {},
   "outputs": [],
   "source": [
    "import numpy as np\n",
    "import csv"
   ]
  },
  {
   "cell_type": "code",
   "execution_count": 11,
   "id": "0fc59f97",
   "metadata": {},
   "outputs": [],
   "source": [
    "data={}\n",
    "with open('policyData\\\\taskData_barrattBottom.csv', 'r' ) as theFile:\n",
    "    reader = csv.reader(theFile)\n",
    "    headers = next(reader, None)\n",
    "    for line in reader:\n",
    "        if line[3] in barrattBottom.values.tolist():\n",
    "            if line[3] not in data:\n",
    "                data[line[3]] = []\n",
    "            data[line[3]].append(line)\n",
    "rlpOption={}\n",
    "with open('rlpOption.csv', 'r' ) as theFile:\n",
    "    reader = csv.reader(theFile)\n",
    "    headers = next(reader, None)\n",
    "    for line in reader:\n",
    "        if line[0] in data:\n",
    "            if line[0] not in rlpOption:\n",
    "                rlpOption[line[0]] = []\n",
    "                i = 0\n",
    "            if line[1] != 'NaN':\n",
    "                data[line[0]][i].append(line[1])\n",
    "                data[line[0]][i].append(line[2])\n",
    "                i += 1"
   ]
  },
  {
   "cell_type": "code",
   "execution_count": 12,
   "id": "872826cf",
   "metadata": {},
   "outputs": [],
   "source": [
    "results = [['id','varRNN','varRL']]\n",
    "for i in data:\n",
    "    varRNN = sum([np.log(float(pred[1])) for pred in data[i]])\n",
    "    varRL = sum([np.log(float(pred[5])) for pred in data[i] if len(pred)>5])\n",
    "    results.append([i,varRNN,varRL])\n",
    "np.savetxt(\"varData\\\\results_barrattBottom.csv\", \n",
    "           results,\n",
    "           delimiter =\", \", \n",
    "           fmt ='% s')"
   ]
  },
  {
   "cell_type": "code",
   "execution_count": 13,
   "id": "3a3b9c5e",
   "metadata": {},
   "outputs": [],
   "source": [
    "data={}\n",
    "with open('policyData\\\\taskData_barrattTop.csv', 'r' ) as theFile:\n",
    "    reader = csv.reader(theFile)\n",
    "    headers = next(reader, None)\n",
    "    for line in reader:\n",
    "        if line[3] in barrattTop.values.tolist():\n",
    "            if line[3] not in data:\n",
    "                data[line[3]] = []\n",
    "            data[line[3]].append(line)\n",
    "rlpOption={}\n",
    "with open('rlpOption.csv', 'r' ) as theFile:\n",
    "    reader = csv.reader(theFile)\n",
    "    headers = next(reader, None)\n",
    "    for line in reader:\n",
    "        if line[0] in data:\n",
    "            if line[0] not in rlpOption:\n",
    "                rlpOption[line[0]] = []\n",
    "                i = 0\n",
    "            if line[1] != 'NaN':\n",
    "                data[line[0]][i].append(line[1])\n",
    "                data[line[0]][i].append(line[2])\n",
    "                i += 1"
   ]
  },
  {
   "cell_type": "code",
   "execution_count": 14,
   "id": "6d296421",
   "metadata": {},
   "outputs": [],
   "source": [
    "results = [['id','varRNN','varRL']]\n",
    "for i in data:\n",
    "    varRNN = sum([np.log(float(pred[1])) for pred in data[i]])\n",
    "    varRL = sum([np.log(float(pred[5])) for pred in data[i] if len(pred)>5])\n",
    "    results.append([i,varRNN,varRL])\n",
    "np.savetxt(\"varData\\\\results_barrattTop.csv\", \n",
    "           results,\n",
    "           delimiter =\", \", \n",
    "           fmt ='% s')"
   ]
  },
  {
   "cell_type": "code",
   "execution_count": 15,
   "id": "d43a41ba",
   "metadata": {},
   "outputs": [],
   "source": [
    "data={}\n",
    "with open('policyData\\\\taskData_bdiBottom.csv', 'r' ) as theFile:\n",
    "    reader = csv.reader(theFile)\n",
    "    headers = next(reader, None)\n",
    "    for line in reader:\n",
    "        if line[3] in bdiBottom.values.tolist():\n",
    "            if line[3] not in data:\n",
    "                data[line[3]] = []\n",
    "            data[line[3]].append(line)\n",
    "rlpOption={}\n",
    "with open('rlpOption.csv', 'r' ) as theFile:\n",
    "    reader = csv.reader(theFile)\n",
    "    headers = next(reader, None)\n",
    "    for line in reader:\n",
    "        if line[0] in data:\n",
    "            if line[0] not in rlpOption:\n",
    "                rlpOption[line[0]] = []\n",
    "                i = 0\n",
    "            if line[1] != 'NaN':\n",
    "                data[line[0]][i].append(line[1])\n",
    "                data[line[0]][i].append(line[2])\n",
    "                i += 1"
   ]
  },
  {
   "cell_type": "code",
   "execution_count": 16,
   "id": "b31b2821",
   "metadata": {},
   "outputs": [],
   "source": [
    "results = [['id','varRNN','varRL']]\n",
    "for i in data:\n",
    "    varRNN = sum([np.log(float(pred[1])) for pred in data[i]])\n",
    "    varRL = sum([np.log(float(pred[5])) for pred in data[i] if len(pred)>5])\n",
    "    results.append([i,varRNN,varRL])\n",
    "np.savetxt(\"varData\\\\results_bdiBottom.csv\", \n",
    "           results,\n",
    "           delimiter =\", \", \n",
    "           fmt ='% s')"
   ]
  },
  {
   "cell_type": "code",
   "execution_count": 17,
   "id": "a54cc6db",
   "metadata": {},
   "outputs": [],
   "source": [
    "data={}\n",
    "with open('policyData\\\\taskData_bdiTop.csv', 'r' ) as theFile:\n",
    "    reader = csv.reader(theFile)\n",
    "    headers = next(reader, None)\n",
    "    for line in reader:\n",
    "        if line[3] in bdiTop.values.tolist():\n",
    "            if line[3] not in data:\n",
    "                data[line[3]] = []\n",
    "            data[line[3]].append(line)\n",
    "rlpOption={}\n",
    "with open('rlpOption.csv', 'r' ) as theFile:\n",
    "    reader = csv.reader(theFile)\n",
    "    headers = next(reader, None)\n",
    "    for line in reader:\n",
    "        if line[0] in data:\n",
    "            if line[0] not in rlpOption:\n",
    "                rlpOption[line[0]] = []\n",
    "                i = 0\n",
    "            if line[1] != 'NaN':\n",
    "                data[line[0]][i].append(line[1])\n",
    "                data[line[0]][i].append(line[2])\n",
    "                i += 1"
   ]
  },
  {
   "cell_type": "code",
   "execution_count": 18,
   "id": "e5359eea",
   "metadata": {},
   "outputs": [],
   "source": [
    "results = [['id','varRNN','varRL']]\n",
    "for i in data:\n",
    "    varRNN = sum([np.log(float(pred[1])) for pred in data[i]])\n",
    "    varRL = sum([np.log(float(pred[5])) for pred in data[i] if len(pred)>5])\n",
    "    results.append([i,varRNN,varRL])\n",
    "np.savetxt(\"varData\\\\results_bdiTop.csv\", \n",
    "           results,\n",
    "           delimiter =\", \", \n",
    "           fmt ='% s')"
   ]
  },
  {
   "cell_type": "code",
   "execution_count": 19,
   "id": "105449b9",
   "metadata": {},
   "outputs": [],
   "source": [
    "data={}\n",
    "with open('policyData\\\\taskData_bisBottom.csv', 'r' ) as theFile:\n",
    "    reader = csv.reader(theFile)\n",
    "    headers = next(reader, None)\n",
    "    for line in reader:\n",
    "        if line[3] in bisBottom.values.tolist():\n",
    "            if line[3] not in data:\n",
    "                data[line[3]] = []\n",
    "            data[line[3]].append(line)\n",
    "rlpOption={}\n",
    "with open('rlpOption.csv', 'r' ) as theFile:\n",
    "    reader = csv.reader(theFile)\n",
    "    headers = next(reader, None)\n",
    "    for line in reader:\n",
    "        if line[0] in data:\n",
    "            if line[0] not in rlpOption:\n",
    "                rlpOption[line[0]] = []\n",
    "                i = 0\n",
    "            if line[1] != 'NaN':\n",
    "                data[line[0]][i].append(line[1])\n",
    "                data[line[0]][i].append(line[2])\n",
    "                i += 1"
   ]
  },
  {
   "cell_type": "code",
   "execution_count": 20,
   "id": "fd58d1c9",
   "metadata": {},
   "outputs": [],
   "source": [
    "results = [['id','varRNN','varRL']]\n",
    "for i in data:\n",
    "    varRNN = sum([np.log(float(pred[1])) for pred in data[i]])\n",
    "    varRL = sum([np.log(float(pred[5])) for pred in data[i] if len(pred)>5])\n",
    "    results.append([i,varRNN,varRL])\n",
    "np.savetxt(\"varData\\\\results_bisBottom.csv\", \n",
    "           results,\n",
    "           delimiter =\", \", \n",
    "           fmt ='% s')"
   ]
  },
  {
   "cell_type": "code",
   "execution_count": 21,
   "id": "116479fe",
   "metadata": {},
   "outputs": [],
   "source": [
    "data={}\n",
    "with open('policyData\\\\taskData_bisTop.csv', 'r' ) as theFile:\n",
    "    reader = csv.reader(theFile)\n",
    "    headers = next(reader, None)\n",
    "    for line in reader:\n",
    "        if line[3] in bisTop.values.tolist():\n",
    "            if line[3] not in data:\n",
    "                data[line[3]] = []\n",
    "            data[line[3]].append(line)\n",
    "rlpOption={}\n",
    "with open('rlpOption.csv', 'r' ) as theFile:\n",
    "    reader = csv.reader(theFile)\n",
    "    headers = next(reader, None)\n",
    "    for line in reader:\n",
    "        if line[0] in data:\n",
    "            if line[0] not in rlpOption:\n",
    "                rlpOption[line[0]] = []\n",
    "                i = 0\n",
    "            if line[1] != 'NaN':\n",
    "                data[line[0]][i].append(line[1])\n",
    "                data[line[0]][i].append(line[2])\n",
    "                i += 1"
   ]
  },
  {
   "cell_type": "code",
   "execution_count": 22,
   "id": "aa38975b",
   "metadata": {},
   "outputs": [],
   "source": [
    "results = [['id','varRNN','varRL']]\n",
    "for i in data:\n",
    "    varRNN = sum([np.log(float(pred[1])) for pred in data[i]])\n",
    "    varRL = sum([np.log(float(pred[5])) for pred in data[i] if len(pred)>5])\n",
    "    results.append([i,varRNN,varRL])\n",
    "np.savetxt(\"varData\\\\results_bisTop.csv\", \n",
    "           results,\n",
    "           delimiter =\", \", \n",
    "           fmt ='% s')"
   ]
  },
  {
   "cell_type": "code",
   "execution_count": 23,
   "id": "1d396933",
   "metadata": {},
   "outputs": [],
   "source": [
    "data={}\n",
    "with open('policyData\\\\taskData_staiBottom.csv', 'r' ) as theFile:\n",
    "    reader = csv.reader(theFile)\n",
    "    headers = next(reader, None)\n",
    "    for line in reader:\n",
    "        if line[3] in staiBottom.values.tolist():\n",
    "            if line[3] not in data:\n",
    "                data[line[3]] = []\n",
    "            data[line[3]].append(line)\n",
    "rlpOption={}\n",
    "with open('rlpOption.csv', 'r' ) as theFile:\n",
    "    reader = csv.reader(theFile)\n",
    "    headers = next(reader, None)\n",
    "    for line in reader:\n",
    "        if line[0] in data:\n",
    "            if line[0] not in rlpOption:\n",
    "                rlpOption[line[0]] = []\n",
    "                i = 0\n",
    "            if line[1] != 'NaN':\n",
    "                data[line[0]][i].append(line[1])\n",
    "                data[line[0]][i].append(line[2])\n",
    "                i += 1"
   ]
  },
  {
   "cell_type": "code",
   "execution_count": 24,
   "id": "f9ed6aee",
   "metadata": {},
   "outputs": [],
   "source": [
    "results = [['id','varRNN','varRL']]\n",
    "for i in data:\n",
    "    varRNN = sum([np.log(float(pred[1])) for pred in data[i]])\n",
    "    varRL = sum([np.log(float(pred[5])) for pred in data[i] if len(pred)>5])\n",
    "    results.append([i,varRNN,varRL])\n",
    "np.savetxt(\"varData\\\\results_staiBottom.csv\", \n",
    "           results,\n",
    "           delimiter =\", \", \n",
    "           fmt ='% s')"
   ]
  },
  {
   "cell_type": "code",
   "execution_count": 25,
   "id": "1610a782",
   "metadata": {},
   "outputs": [],
   "source": [
    "data={}\n",
    "with open('policyData\\\\taskData_staiTop.csv', 'r' ) as theFile:\n",
    "    reader = csv.reader(theFile)\n",
    "    headers = next(reader, None)\n",
    "    for line in reader:\n",
    "        if line[3] in staiTop.values.tolist():\n",
    "            if line[3] not in data:\n",
    "                data[line[3]] = []\n",
    "            data[line[3]].append(line)\n",
    "rlpOption={}\n",
    "with open('rlpOption.csv', 'r' ) as theFile:\n",
    "    reader = csv.reader(theFile)\n",
    "    headers = next(reader, None)\n",
    "    for line in reader:\n",
    "        if line[0] in data:\n",
    "            if line[0] not in rlpOption:\n",
    "                rlpOption[line[0]] = []\n",
    "                i = 0\n",
    "            if line[1] != 'NaN':\n",
    "                data[line[0]][i].append(line[1])\n",
    "                data[line[0]][i].append(line[2])\n",
    "                i += 1"
   ]
  },
  {
   "cell_type": "code",
   "execution_count": 26,
   "id": "aeb38021",
   "metadata": {},
   "outputs": [],
   "source": [
    "results = [['id','varRNN','varRL']]\n",
    "for i in data:\n",
    "    varRNN = sum([np.log(float(pred[1])) for pred in data[i]])\n",
    "    varRL = sum([np.log(float(pred[5])) for pred in data[i] if len(pred)>5])\n",
    "    results.append([i,varRNN,varRL])\n",
    "np.savetxt(\"varData\\\\results_staiTop.csv\", \n",
    "           results,\n",
    "           delimiter =\", \", \n",
    "           fmt ='% s')"
   ]
  }
 ],
 "metadata": {
  "kernelspec": {
   "display_name": "Python 3",
   "language": "python",
   "name": "python3"
  },
  "language_info": {
   "codemirror_mode": {
    "name": "ipython",
    "version": 3
   },
   "file_extension": ".py",
   "mimetype": "text/x-python",
   "name": "python",
   "nbconvert_exporter": "python",
   "pygments_lexer": "ipython3",
   "version": "3.7.9"
  }
 },
 "nbformat": 4,
 "nbformat_minor": 5
}
