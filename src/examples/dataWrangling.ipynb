{
 "cells": [
  {
   "cell_type": "code",
   "execution_count": 1,
   "id": "985da879",
   "metadata": {},
   "outputs": [
    {
     "name": "stdout",
     "output_type": "stream",
     "text": [
      "C:\\Users\\User\\Documents\\SURF 2021\\RL RNN SURF\\src\n"
     ]
    }
   ],
   "source": [
    "cd .."
   ]
  },
  {
   "cell_type": "code",
   "execution_count": 2,
   "id": "699515cb",
   "metadata": {},
   "outputs": [],
   "source": [
    "import pandas as pd\n",
    "import os\n",
    "\n",
    "scores = pd.read_csv(\"selfReportScores.csv\")\n",
    "cie = pd.read_csv(\"CIE_measures.csv\")\n",
    "merged = scores.merge(cie, on='workerId')\n",
    "\n",
    "directory = r'C:\\Users\\User\\Documents\\SURF 2021\\RL RNN SURF\\src\\taskData'\n",
    "frames = [pd.read_csv('taskData\\\\'+filename) for filename in os.listdir(directory)]\n",
    "taskData = pd.concat(frames, ignore_index=True)"
   ]
  },
  {
   "cell_type": "code",
   "execution_count": 3,
   "id": "b33a2c5a",
   "metadata": {},
   "outputs": [],
   "source": [
    "length = merged.shape[0]\n",
    "quartile = int(length/4)\n",
    "first_quartile = range(0,quartile)\n",
    "last_quartile = range(length-quartile,length)"
   ]
  },
  {
   "cell_type": "code",
   "execution_count": 4,
   "id": "98bde72b",
   "metadata": {},
   "outputs": [
    {
     "name": "stdout",
     "output_type": "stream",
     "text": [
      "C:\\Users\\User\\Documents\\SURF 2021\\RL RNN SURF\\src\\quartileData\n"
     ]
    }
   ],
   "source": [
    "cd quartileData"
   ]
  },
  {
   "cell_type": "code",
   "execution_count": 5,
   "id": "8a96fe39",
   "metadata": {},
   "outputs": [],
   "source": [
    "barratt = merged.sort_values(by=['Barratt'], ignore_index=True)\n",
    "barrattTop = barratt['workerId'][first_quartile]\n",
    "barrattBottom = barratt['workerId'][last_quartile]\n",
    "taskData_barrattTop = taskData[taskData['workerId'].isin(barrattTop)]\n",
    "taskData_barrattBottom = taskData[taskData['workerId'].isin(barrattBottom)]\n",
    "taskData_barrattTop = taskData_barrattTop.dropna(subset=['blockID', 'outcome', 'respKey', 'trialStimID_1', 'trialStimID_2'])\n",
    "taskData_barrattBottom = taskData_barrattBottom.dropna(subset=['blockID', 'outcome', 'respKey', 'trialStimID_1', 'trialStimID_2'])\n",
    "taskData_barrattTop.to_csv('taskData_barrattTop.csv', index=False)\n",
    "taskData_barrattBottom.to_csv('taskData_barrattBottom.csv', index=False)"
   ]
  },
  {
   "cell_type": "code",
   "execution_count": 6,
   "id": "cebfe840",
   "metadata": {},
   "outputs": [],
   "source": [
    "stai = merged.sort_values(by=['STAI.T'], ignore_index=True)\n",
    "staiTop = stai['workerId'][first_quartile]\n",
    "staiBottom = stai['workerId'][last_quartile]\n",
    "taskData_staiTop = taskData[taskData['workerId'].isin(staiTop)]\n",
    "taskData_staiBottom = taskData[taskData['workerId'].isin(staiBottom)]\n",
    "taskData_staiTop = taskData_staiTop.dropna(subset=['blockID', 'outcome', 'respKey', 'trialStimID_1', 'trialStimID_2'])\n",
    "taskData_staiBottom = taskData_staiBottom.dropna(subset=['blockID', 'outcome', 'respKey', 'trialStimID_1', 'trialStimID_2'])\n",
    "taskData_staiTop.to_csv('taskData_staiTop.csv', index=False)\n",
    "taskData_staiBottom.to_csv('taskData_staiBottom.csv', index=False)"
   ]
  },
  {
   "cell_type": "code",
   "execution_count": 7,
   "id": "b6c0de8d",
   "metadata": {},
   "outputs": [],
   "source": [
    "bdi = merged.sort_values(by=['BDI.II'], ignore_index=True)\n",
    "bdiTop = bdi['workerId'][first_quartile]\n",
    "bdiBottom = bdi['workerId'][last_quartile]\n",
    "taskData_bdiTop = taskData[taskData['workerId'].isin(bdiTop)]\n",
    "taskData_bdiBottom = taskData[taskData['workerId'].isin(bdiBottom)]\n",
    "taskData_bdiTop = taskData_bdiTop.dropna(subset=['blockID', 'outcome', 'respKey', 'trialStimID_1', 'trialStimID_2'])\n",
    "taskData_bdiBottom = taskData_bdiBottom.dropna(subset=['blockID', 'outcome', 'respKey', 'trialStimID_1', 'trialStimID_2'])\n",
    "taskData_bdiTop.to_csv('taskData_bdiTop.csv', index=False)\n",
    "taskData_bdiBottom.to_csv('taskData_bdiBottom.csv', index=False)"
   ]
  },
  {
   "cell_type": "code",
   "execution_count": 8,
   "id": "478802ee",
   "metadata": {},
   "outputs": [],
   "source": [
    "bis = merged.sort_values(by=['BIS.BAS'], ignore_index=True)\n",
    "bisTop = bis['workerId'][first_quartile]\n",
    "bisBottom = bis['workerId'][last_quartile]\n",
    "taskData_bisTop = taskData[taskData['workerId'].isin(bisTop)]\n",
    "taskData_bisBottom = taskData[taskData['workerId'].isin(bisBottom)]\n",
    "taskData_bisTop = taskData_bisTop.dropna(subset=['blockID', 'outcome', 'respKey', 'trialStimID_1', 'trialStimID_2'])\n",
    "taskData_bisBottom = taskData_bisBottom.dropna(subset=['blockID', 'outcome', 'respKey', 'trialStimID_1', 'trialStimID_2'])\n",
    "taskData_bisTop.to_csv('taskData_bisTop.csv', index=False)\n",
    "taskData_bisBottom.to_csv('taskData_bisBottom.csv', index=False)"
   ]
  }
 ],
 "metadata": {
  "kernelspec": {
   "display_name": "Python 3",
   "language": "python",
   "name": "python3"
  },
  "language_info": {
   "codemirror_mode": {
    "name": "ipython",
    "version": 3
   },
   "file_extension": ".py",
   "mimetype": "text/x-python",
   "name": "python",
   "nbconvert_exporter": "python",
   "pygments_lexer": "ipython3",
   "version": "3.7.9"
  }
 },
 "nbformat": 4,
 "nbformat_minor": 5
}
