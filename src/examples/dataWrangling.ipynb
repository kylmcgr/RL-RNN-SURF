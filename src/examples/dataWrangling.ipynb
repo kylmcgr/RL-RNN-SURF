{
 "cells": [
  {
   "cell_type": "code",
   "execution_count": 1,
   "id": "985da879",
   "metadata": {},
   "outputs": [
    {
     "name": "stdout",
     "output_type": "stream",
     "text": [
      "C:\\Users\\User\\Documents\\SURF 2021\\RL RNN SURF\\src\n"
     ]
    }
   ],
   "source": [
    "cd .."
   ]
  },
  {
   "cell_type": "code",
   "execution_count": 45,
   "id": "699515cb",
   "metadata": {},
   "outputs": [],
   "source": [
    "import pandas as pd\n",
    "import os\n",
    "\n",
    "scores = pd.read_csv(\"selfReportScores.csv\")\n",
    "cie = pd.read_csv(\"CIE_measures.csv\")\n",
    "merged = scores.merge(cie, on='workerId')\n",
    "\n",
    "directory = r'C:\\Users\\User\\Documents\\SURF 2021\\RL RNN SURF\\src\\taskData'\n",
    "frames = [pd.read_csv('taskData\\\\'+filename) for filename in os.listdir(directory)]\n",
    "taskData = pd.concat(frames, ignore_index=True)"
   ]
  },
  {
   "cell_type": "code",
   "execution_count": 46,
   "id": "34ccb75e",
   "metadata": {},
   "outputs": [
    {
     "name": "stdout",
     "output_type": "stream",
     "text": [
      "1197 917\n"
     ]
    },
    {
     "name": "stderr",
     "output_type": "stream",
     "text": [
      "c:\\users\\user\\documents\\surf 2021\\rl rnn surf\\venv\\lib\\site-packages\\ipykernel_launcher.py:2: UserWarning: Boolean Series key will be reindexed to match DataFrame index.\n",
      "  \n",
      "c:\\users\\user\\documents\\surf 2021\\rl rnn surf\\venv\\lib\\site-packages\\ipykernel_launcher.py:2: UserWarning: Boolean Series key will be reindexed to match DataFrame index.\n",
      "  \n",
      "c:\\users\\user\\documents\\surf 2021\\rl rnn surf\\venv\\lib\\site-packages\\ipykernel_launcher.py:2: UserWarning: Boolean Series key will be reindexed to match DataFrame index.\n",
      "  \n",
      "c:\\users\\user\\documents\\surf 2021\\rl rnn surf\\venv\\lib\\site-packages\\ipykernel_launcher.py:2: UserWarning: Boolean Series key will be reindexed to match DataFrame index.\n",
      "  \n",
      "c:\\users\\user\\documents\\surf 2021\\rl rnn surf\\venv\\lib\\site-packages\\ipykernel_launcher.py:2: UserWarning: Boolean Series key will be reindexed to match DataFrame index.\n",
      "  \n"
     ]
    }
   ],
   "source": [
    "crit = pd.read_csv(\"excl_crit.csv\")\n",
    "nocareless = crit[crit.survey_catchcorr!=True][crit.survey_irv_min!=True][crit.survey_reliable!=True][crit.survey_rt_min!=True][crit.survey_psychsyn!=True][crit.survey_psychant!=True][crit.task_redo_max!=True]\n",
    "print(crit.shape[0], nocareless.shape[0])"
   ]
  },
  {
   "cell_type": "code",
   "execution_count": 48,
   "id": "085e7fed",
   "metadata": {},
   "outputs": [
    {
     "name": "stdout",
     "output_type": "stream",
     "text": [
      "1197 917\n"
     ]
    }
   ],
   "source": [
    "merged_nocareless = merged[merged['workerId'].isin(nocareless['workerId'])]\n",
    "print(merged.shape[0], merged_nocareless.shape[0])"
   ]
  },
  {
   "cell_type": "code",
   "execution_count": 3,
   "id": "b33a2c5a",
   "metadata": {},
   "outputs": [],
   "source": [
    "length = merged.shape[0]\n",
    "quartile = int(length/4)\n",
    "first_quartile = range(0,quartile)\n",
    "last_quartile = range(length-quartile,length)"
   ]
  },
  {
   "cell_type": "code",
   "execution_count": 28,
   "id": "b4641952",
   "metadata": {},
   "outputs": [],
   "source": [
    "import scipy.io as spio\n",
    "\n",
    "mat = spio.loadmat('allSubs_EE_smB_rl.mat', squeeze_me=True)"
   ]
  },
  {
   "cell_type": "code",
   "execution_count": 151,
   "id": "be640609",
   "metadata": {
    "scrolled": true
   },
   "outputs": [
    {
     "data": {
      "text/plain": [
       "62.58142794154699"
      ]
     },
     "execution_count": 151,
     "metadata": {},
     "output_type": "execute_result"
    }
   ],
   "source": [
    "data = mat['cbm']['input'].item()['data'].item()\n",
    "param1 = []\n",
    "param2 = []\n",
    "scores = []\n",
    "for i in range(len(data)):\n",
    "    if data[i]['workerId'].item()[0] in list(bdiTop):\n",
    "        param1.append(data[i]['fitData'].item()['transParams'].item()[0])\n",
    "        param2.append(data[i]['fitData'].item()['transParams'].item()[1])\n",
    "        scores.append(np.nansum(data[i]['reward'].item()))\n",
    "np.var(scores)"
   ]
  },
  {
   "cell_type": "code",
   "execution_count": 145,
   "id": "97051a20",
   "metadata": {},
   "outputs": [
    {
     "data": {
      "text/plain": [
       "[77,\n",
       " 74.0,\n",
       " 83.0,\n",
       " 79.0,\n",
       " 63.0,\n",
       " 79,\n",
       " 83.0,\n",
       " 88.0,\n",
       " 79.0,\n",
       " 77.0,\n",
       " 86.0,\n",
       " 76.0,\n",
       " 76.0,\n",
       " 79,\n",
       " 79,\n",
       " 86,\n",
       " 80,\n",
       " 82.0,\n",
       " 93.0,\n",
       " 77.0,\n",
       " 73.0,\n",
       " 72,\n",
       " 80,\n",
       " 76,\n",
       " 66.0,\n",
       " 86,\n",
       " 75.0,\n",
       " 90.0,\n",
       " 73,\n",
       " 79,\n",
       " 76.0,\n",
       " 84,\n",
       " 80.0,\n",
       " 78.0,\n",
       " 81,\n",
       " 85,\n",
       " 74,\n",
       " 81.0,\n",
       " 74,\n",
       " 68,\n",
       " 68.0,\n",
       " 80,\n",
       " 0.0,\n",
       " 88,\n",
       " 76.0,\n",
       " 76.0,\n",
       " 77,\n",
       " 73.0,\n",
       " 79,\n",
       " 81.0,\n",
       " 68.0,\n",
       " 77.0,\n",
       " 78.0,\n",
       " 83,\n",
       " 85,\n",
       " 85,\n",
       " 69.0,\n",
       " 76,\n",
       " 85,\n",
       " 79.0,\n",
       " 86,\n",
       " 80,\n",
       " 79,\n",
       " 82,\n",
       " 84,\n",
       " 83.0,\n",
       " 83.0,\n",
       " 80.0,\n",
       " 85,\n",
       " 71.0,\n",
       " 83.0,\n",
       " 78.0,\n",
       " 72.0,\n",
       " 81,\n",
       " 87.0,\n",
       " 79.0,\n",
       " 81.0,\n",
       " 79,\n",
       " 80,\n",
       " 76,\n",
       " 61.0,\n",
       " 75.0,\n",
       " 79.0,\n",
       " 84.0,\n",
       " 80,\n",
       " 76.0,\n",
       " 74.0,\n",
       " 78.0,\n",
       " 87,\n",
       " 76.0,\n",
       " 87,\n",
       " 82.0,\n",
       " 78.0,\n",
       " 81,\n",
       " 82,\n",
       " 81,\n",
       " 80.0,\n",
       " 79,\n",
       " 81,\n",
       " 75,\n",
       " 82.0,\n",
       " 82,\n",
       " 71.0,\n",
       " 80,\n",
       " 79.0,\n",
       " 82,\n",
       " 85,\n",
       " 82,\n",
       " 74,\n",
       " 73.0,\n",
       " 84,\n",
       " 59,\n",
       " 83,\n",
       " 74,\n",
       " 83,\n",
       " 73.0,\n",
       " 84,\n",
       " 72.0,\n",
       " 81.0,\n",
       " 74,\n",
       " 82,\n",
       " 78.0,\n",
       " 86,\n",
       " 82,\n",
       " 86.0,\n",
       " 79,\n",
       " 69.0,\n",
       " 83,\n",
       " 78,\n",
       " 79,\n",
       " 81.0,\n",
       " 81.0,\n",
       " 84,\n",
       " 82.0,\n",
       " 87,\n",
       " 82.0,\n",
       " 82,\n",
       " 87,\n",
       " 72,\n",
       " 83,\n",
       " 89,\n",
       " 83.0,\n",
       " 73,\n",
       " 82.0,\n",
       " 80.0,\n",
       " 85.0,\n",
       " 88,\n",
       " 64.0,\n",
       " 84.0,\n",
       " 83.0,\n",
       " 87,\n",
       " 75.0,\n",
       " 67,\n",
       " 54.0,\n",
       " 78,\n",
       " 84,\n",
       " 81.0,\n",
       " 63.0,\n",
       " 79.0,\n",
       " 90.0,\n",
       " 75.0,\n",
       " 78,\n",
       " 78.0,\n",
       " 74,\n",
       " 81,\n",
       " 81.0,\n",
       " 77,\n",
       " 84.0,\n",
       " 78.0,\n",
       " 88,\n",
       " 83,\n",
       " 77,\n",
       " 79,\n",
       " 84,\n",
       " 87.0,\n",
       " 76.0,\n",
       " 84.0,\n",
       " 81,\n",
       " 90.0,\n",
       " 91,\n",
       " 69.0,\n",
       " 82.0,\n",
       " 80,\n",
       " 91,\n",
       " 69.0,\n",
       " 81.0,\n",
       " 70.0,\n",
       " 78,\n",
       " 81.0,\n",
       " 75,\n",
       " 76.0,\n",
       " 78,\n",
       " 78,\n",
       " 78,\n",
       " 85,\n",
       " 84.0,\n",
       " 87,\n",
       " 88,\n",
       " 80.0,\n",
       " 88,\n",
       " 76,\n",
       " 71,\n",
       " 80.0,\n",
       " 74.0,\n",
       " 83,\n",
       " 67.0,\n",
       " 77.0,\n",
       " 89,\n",
       " 86,\n",
       " 85,\n",
       " 73,\n",
       " 82.0,\n",
       " 85.0,\n",
       " 81,\n",
       " 75.0,\n",
       " 72.0,\n",
       " 83,\n",
       " 77.0,\n",
       " 87,\n",
       " 73.0,\n",
       " 73.0,\n",
       " 76,\n",
       " 71.0,\n",
       " 84.0,\n",
       " 78,\n",
       " 79.0,\n",
       " 75,\n",
       " 76.0,\n",
       " 84.0,\n",
       " 91,\n",
       " 75,\n",
       " 83,\n",
       " 88,\n",
       " 80.0,\n",
       " 73.0,\n",
       " 66.0,\n",
       " 84.0,\n",
       " 73.0,\n",
       " 78,\n",
       " 64.0,\n",
       " 85,\n",
       " 83.0,\n",
       " 76.0,\n",
       " 80.0,\n",
       " 77,\n",
       " 74.0,\n",
       " 75.0,\n",
       " 75,\n",
       " 83,\n",
       " 82.0,\n",
       " 94,\n",
       " 84.0]"
      ]
     },
     "execution_count": 145,
     "metadata": {},
     "output_type": "execute_result"
    }
   ],
   "source": []
  },
  {
   "cell_type": "code",
   "execution_count": 74,
   "id": "ee8faa4a",
   "metadata": {},
   "outputs": [],
   "source": [
    "bdi = merged.sort_values(by=['BDI.II'], ignore_index=True)\n",
    "bdiTop = bdi['workerId'][first_quartile]\n",
    "bdiBottom = bdi['workerId'][last_quartile]"
   ]
  },
  {
   "cell_type": "code",
   "execution_count": 163,
   "id": "99ab2944",
   "metadata": {},
   "outputs": [
    {
     "data": {
      "text/plain": [
       "array([[<AxesSubplot:title={'center':'BDI.II'}>]], dtype=object)"
      ]
     },
     "execution_count": 163,
     "metadata": {},
     "output_type": "execute_result"
    },
    {
     "data": {
      "image/png": "[encoded data removed]",
      "text/plain": [
       "<Figure size 432x288 with 1 Axes>"
      ]
     },
     "metadata": {
      "needs_background": "light"
     },
     "output_type": "display_data"
    }
   ],
   "source": [
    "bdi.hist('BDI.II',bins=58)"
   ]
  },
  {
   "cell_type": "code",
   "execution_count": 162,
   "id": "a85b5569",
   "metadata": {},
   "outputs": [
    {
     "data": {
      "text/plain": [
       "<AxesSubplot:>"
      ]
     },
     "execution_count": 162,
     "metadata": {},
     "output_type": "execute_result"
    },
    {
     "data": {
      "image/png": "[encoded data removed]",
      "text/plain": [
       "<Figure size 432x288 with 1 Axes>"
      ]
     },
     "metadata": {
      "needs_background": "light"
     },
     "output_type": "display_data"
    }
   ],
   "source": [
    "bdiTop = bdi['BDI.II'][first_quartile]\n",
    "bdiTop.hist(bins=5)"
   ]
  },
  {
   "cell_type": "code",
   "execution_count": 168,
   "id": "91c9be58",
   "metadata": {},
   "outputs": [
    {
     "data": {
      "text/plain": [
       "<AxesSubplot:>"
      ]
     },
     "execution_count": 168,
     "metadata": {},
     "output_type": "execute_result"
    },
    {
     "data": {
      "image/png": "[encoded data removed]",
      "text/plain": [
       "<Figure size 432x288 with 1 Axes>"
      ]
     },
     "metadata": {
      "needs_background": "light"
     },
     "output_type": "display_data"
    }
   ],
   "source": [
    "bdiBottom = bdi['BDI.II'][last_quartile]\n",
    "bdiBottom.hist(bins=36)"
   ]
  },
  {
   "cell_type": "code",
   "execution_count": null,
   "id": "98bde72b",
   "metadata": {},
   "outputs": [],
   "source": [
    "cd quartileData"
   ]
  },
  {
   "cell_type": "code",
   "execution_count": null,
   "id": "8a96fe39",
   "metadata": {},
   "outputs": [],
   "source": [
    "barratt = merged.sort_values(by=['Barratt'], ignore_index=True)\n",
    "barrattTop = barratt['workerId'][first_quartile]\n",
    "barrattBottom = barratt['workerId'][last_quartile]\n",
    "taskData_barrattTop = taskData[taskData['workerId'].isin(barrattTop)]\n",
    "taskData_barrattBottom = taskData[taskData['workerId'].isin(barrattBottom)]\n",
    "taskData_barrattTop = taskData_barrattTop.dropna(subset=['blockID', 'outcome', 'respKey', 'trialStimID_1', 'trialStimID_2'])\n",
    "taskData_barrattBottom = taskData_barrattBottom.dropna(subset=['blockID', 'outcome', 'respKey', 'trialStimID_1', 'trialStimID_2'])\n",
    "taskData_barrattTop.to_csv('taskData_barrattTop.csv', index=False)\n",
    "taskData_barrattBottom.to_csv('taskData_barrattBottom.csv', index=False)"
   ]
  },
  {
   "cell_type": "code",
   "execution_count": null,
   "id": "cebfe840",
   "metadata": {},
   "outputs": [],
   "source": [
    "stai = merged.sort_values(by=['STAI.T'], ignore_index=True)\n",
    "staiTop = stai['workerId'][first_quartile]\n",
    "staiBottom = stai['workerId'][last_quartile]\n",
    "taskData_staiTop = taskData[taskData['workerId'].isin(staiTop)]\n",
    "taskData_staiBottom = taskData[taskData['workerId'].isin(staiBottom)]\n",
    "taskData_staiTop = taskData_staiTop.dropna(subset=['blockID', 'outcome', 'respKey', 'trialStimID_1', 'trialStimID_2'])\n",
    "taskData_staiBottom = taskData_staiBottom.dropna(subset=['blockID', 'outcome', 'respKey', 'trialStimID_1', 'trialStimID_2'])\n",
    "taskData_staiTop.to_csv('taskData_staiTop.csv', index=False)\n",
    "taskData_staiBottom.to_csv('taskData_staiBottom.csv', index=False)"
   ]
  },
  {
   "cell_type": "code",
   "execution_count": null,
   "id": "b6c0de8d",
   "metadata": {},
   "outputs": [],
   "source": [
    "bdi = merged.sort_values(by=['BDI.II'], ignore_index=True)\n",
    "bdiTop = bdi['workerId'][first_quartile]\n",
    "bdiBottom = bdi['workerId'][last_quartile]\n",
    "taskData_bdiTop = taskData[taskData['workerId'].isin(bdiTop)]\n",
    "taskData_bdiBottom = taskData[taskData['workerId'].isin(bdiBottom)]\n",
    "taskData_bdiTop = taskData_bdiTop.dropna(subset=['blockID', 'outcome', 'respKey', 'trialStimID_1', 'trialStimID_2'])\n",
    "taskData_bdiBottom = taskData_bdiBottom.dropna(subset=['blockID', 'outcome', 'respKey', 'trialStimID_1', 'trialStimID_2'])\n",
    "taskData_bdiTop.to_csv('taskData_bdiTop.csv', index=False)\n",
    "taskData_bdiBottom.to_csv('taskData_bdiBottom.csv', index=False)"
   ]
  },
  {
   "cell_type": "code",
   "execution_count": null,
   "id": "478802ee",
   "metadata": {},
   "outputs": [],
   "source": [
    "bis = merged.sort_values(by=['BIS.BAS'], ignore_index=True)\n",
    "bisTop = bis['workerId'][first_quartile]\n",
    "bisBottom = bis['workerId'][last_quartile]\n",
    "taskData_bisTop = taskData[taskData['workerId'].isin(bisTop)]\n",
    "taskData_bisBottom = taskData[taskData['workerId'].isin(bisBottom)]\n",
    "taskData_bisTop = taskData_bisTop.dropna(subset=['blockID', 'outcome', 'respKey', 'trialStimID_1', 'trialStimID_2'])\n",
    "taskData_bisBottom = taskData_bisBottom.dropna(subset=['blockID', 'outcome', 'respKey', 'trialStimID_1', 'trialStimID_2'])\n",
    "taskData_bisTop.to_csv('taskData_bisTop.csv', index=False)\n",
    "taskData_bisBottom.to_csv('taskData_bisBottom.csv', index=False)"
   ]
  },
  {
   "cell_type": "code",
   "execution_count": null,
   "id": "c50d69bb",
   "metadata": {},
   "outputs": [],
   "source": [
    "cd .."
   ]
  },
  {
   "cell_type": "markdown",
   "id": "a28546eb",
   "metadata": {},
   "source": [
    "Run networks on quartile data, following code merges the predictions"
   ]
  },
  {
   "cell_type": "code",
   "execution_count": null,
   "id": "7582260c",
   "metadata": {},
   "outputs": [],
   "source": [
    "import numpy as np\n",
    "import csv"
   ]
  },
  {
   "cell_type": "code",
   "execution_count": null,
   "id": "5c4b9269",
   "metadata": {},
   "outputs": [],
   "source": [
    "data={}\n",
    "with open('policyData_noReward\\\\taskData_barrattBottom_noReward.csv', 'r' ) as theFile:\n",
    "    reader = csv.reader(theFile)\n",
    "    headers = next(reader, None)\n",
    "    for line in reader:\n",
    "        if line[3] in barrattBottom.values.tolist():\n",
    "            if line[3] not in data:\n",
    "                data[line[3]] = []\n",
    "            data[line[3]].append(line)\n",
    "rlpOption={}\n",
    "with open('rlpOption.csv', 'r' ) as theFile:\n",
    "    reader = csv.reader(theFile)\n",
    "    headers = next(reader, None)\n",
    "    for line in reader:\n",
    "        if line[0] in data:\n",
    "            if line[0] not in rlpOption:\n",
    "                rlpOption[line[0]] = []\n",
    "                i = 0\n",
    "            if line[1] != 'NaN':\n",
    "                data[line[0]][i].append(line[1])\n",
    "                data[line[0]][i].append(line[2])\n",
    "                i += 1"
   ]
  },
  {
   "cell_type": "code",
   "execution_count": null,
   "id": "48c38b94",
   "metadata": {},
   "outputs": [],
   "source": [
    "results = [['id','varRNN','varRL']]\n",
    "for i in data:\n",
    "    varRNN = sum([np.log(float(pred[1])) for pred in data[i]])\n",
    "    varRL = sum([np.log(float(pred[5])) for pred in data[i] if len(pred)>5])\n",
    "    results.append([i,varRNN,varRL])\n",
    "np.savetxt(\"varData_noReward\\\\results_barrattBottom_noReward.csv\", \n",
    "           results,\n",
    "           delimiter =\", \", \n",
    "           fmt ='% s')"
   ]
  },
  {
   "cell_type": "code",
   "execution_count": null,
   "id": "558925e4",
   "metadata": {},
   "outputs": [],
   "source": [
    "data={}\n",
    "with open('policyData_noReward\\\\taskData_barrattTop_noReward.csv', 'r' ) as theFile:\n",
    "    reader = csv.reader(theFile)\n",
    "    headers = next(reader, None)\n",
    "    for line in reader:\n",
    "        if line[3] in barrattTop.values.tolist():\n",
    "            if line[3] not in data:\n",
    "                data[line[3]] = []\n",
    "            data[line[3]].append(line)\n",
    "rlpOption={}\n",
    "with open('rlpOption.csv', 'r' ) as theFile:\n",
    "    reader = csv.reader(theFile)\n",
    "    headers = next(reader, None)\n",
    "    for line in reader:\n",
    "        if line[0] in data:\n",
    "            if line[0] not in rlpOption:\n",
    "                rlpOption[line[0]] = []\n",
    "                i = 0\n",
    "            if line[1] != 'NaN':\n",
    "                data[line[0]][i].append(line[1])\n",
    "                data[line[0]][i].append(line[2])\n",
    "                i += 1"
   ]
  },
  {
   "cell_type": "code",
   "execution_count": null,
   "id": "fdf18820",
   "metadata": {},
   "outputs": [],
   "source": [
    "results = [['id','varRNN','varRL']]\n",
    "for i in data:\n",
    "    varRNN = sum([np.log(float(pred[1])) for pred in data[i]])\n",
    "    varRL = sum([np.log(float(pred[5])) for pred in data[i] if len(pred)>5])\n",
    "    results.append([i,varRNN,varRL])\n",
    "np.savetxt(\"varData_noReward\\\\results_barrattTop_noReward.csv\", \n",
    "           results,\n",
    "           delimiter =\", \", \n",
    "           fmt ='% s')"
   ]
  },
  {
   "cell_type": "code",
   "execution_count": null,
   "id": "2c187979",
   "metadata": {},
   "outputs": [],
   "source": [
    "data={}\n",
    "with open('policyData_noReward\\\\taskData_bdiBottom_noReward.csv', 'r' ) as theFile:\n",
    "    reader = csv.reader(theFile)\n",
    "    headers = next(reader, None)\n",
    "    for line in reader:\n",
    "        if line[3] in bdiBottom.values.tolist():\n",
    "            if line[3] not in data:\n",
    "                data[line[3]] = []\n",
    "            data[line[3]].append(line)\n",
    "rlpOption={}\n",
    "with open('rlpOption.csv', 'r' ) as theFile:\n",
    "    reader = csv.reader(theFile)\n",
    "    headers = next(reader, None)\n",
    "    for line in reader:\n",
    "        if line[0] in data:\n",
    "            if line[0] not in rlpOption:\n",
    "                rlpOption[line[0]] = []\n",
    "                i = 0\n",
    "            if line[1] != 'NaN':\n",
    "                data[line[0]][i].append(line[1])\n",
    "                data[line[0]][i].append(line[2])\n",
    "                i += 1"
   ]
  },
  {
   "cell_type": "code",
   "execution_count": null,
   "id": "fe7fb440",
   "metadata": {},
   "outputs": [],
   "source": [
    "results = [['id','varRNN','varRL']]\n",
    "for i in data:\n",
    "    varRNN = sum([np.log(float(pred[1])) for pred in data[i]])\n",
    "    varRL = sum([np.log(float(pred[5])) for pred in data[i] if len(pred)>5])\n",
    "    results.append([i,varRNN,varRL])\n",
    "np.savetxt(\"varData_noReward\\\\results_bdiBottom_noReward.csv\", \n",
    "           results,\n",
    "           delimiter =\", \", \n",
    "           fmt ='% s')"
   ]
  },
  {
   "cell_type": "code",
   "execution_count": null,
   "id": "6b528cc8",
   "metadata": {},
   "outputs": [],
   "source": [
    "data={}\n",
    "with open('policyData_noReward\\\\taskData_bdiTop_noReward.csv', 'r' ) as theFile:\n",
    "    reader = csv.reader(theFile)\n",
    "    headers = next(reader, None)\n",
    "    for line in reader:\n",
    "        if line[3] in bdiTop.values.tolist():\n",
    "            if line[3] not in data:\n",
    "                data[line[3]] = []\n",
    "            data[line[3]].append(line)\n",
    "rlpOption={}\n",
    "with open('rlpOption.csv', 'r' ) as theFile:\n",
    "    reader = csv.reader(theFile)\n",
    "    headers = next(reader, None)\n",
    "    for line in reader:\n",
    "        if line[0] in data:\n",
    "            if line[0] not in rlpOption:\n",
    "                rlpOption[line[0]] = []\n",
    "                i = 0\n",
    "            if line[1] != 'NaN':\n",
    "                data[line[0]][i].append(line[1])\n",
    "                data[line[0]][i].append(line[2])\n",
    "                i += 1"
   ]
  },
  {
   "cell_type": "code",
   "execution_count": null,
   "id": "26da4251",
   "metadata": {},
   "outputs": [],
   "source": [
    "results = [['id','varRNN','varRL']]\n",
    "for i in data:\n",
    "    varRNN = sum([np.log(float(pred[1])) for pred in data[i]])\n",
    "    varRL = sum([np.log(float(pred[5])) for pred in data[i] if len(pred)>5])\n",
    "    results.append([i,varRNN,varRL])\n",
    "np.savetxt(\"varData_noReward\\\\results_bdiTop_noReward.csv\", \n",
    "           results,\n",
    "           delimiter =\", \", \n",
    "           fmt ='% s')"
   ]
  },
  {
   "cell_type": "code",
   "execution_count": null,
   "id": "0b45944c",
   "metadata": {},
   "outputs": [],
   "source": [
    "data={}\n",
    "with open('policyData\\\\taskData_bisBottom.csv', 'r' ) as theFile:\n",
    "    reader = csv.reader(theFile)\n",
    "    headers = next(reader, None)\n",
    "    for line in reader:\n",
    "        if line[3] in bisBottom.values.tolist():\n",
    "            if line[3] not in data:\n",
    "                data[line[3]] = []\n",
    "            data[line[3]].append(line)\n",
    "rlpOption={}\n",
    "with open('rlpOption.csv', 'r' ) as theFile:\n",
    "    reader = csv.reader(theFile)\n",
    "    headers = next(reader, None)\n",
    "    for line in reader:\n",
    "        if line[0] in data:\n",
    "            if line[0] not in rlpOption:\n",
    "                rlpOption[line[0]] = []\n",
    "                i = 0\n",
    "            if line[1] != 'NaN':\n",
    "                data[line[0]][i].append(line[1])\n",
    "                data[line[0]][i].append(line[2])\n",
    "                i += 1"
   ]
  },
  {
   "cell_type": "code",
   "execution_count": null,
   "id": "001d59e4",
   "metadata": {},
   "outputs": [],
   "source": [
    "results = [['id','varRNN','varRL']]\n",
    "for i in data:\n",
    "    varRNN = sum([np.log(float(pred[1])) for pred in data[i]])\n",
    "    varRL = sum([np.log(float(pred[5])) for pred in data[i] if len(pred)>5])\n",
    "    results.append([i,varRNN,varRL])\n",
    "np.savetxt(\"varData\\\\results_bisBottom.csv\", \n",
    "           results,\n",
    "           delimiter =\", \", \n",
    "           fmt ='% s')"
   ]
  },
  {
   "cell_type": "code",
   "execution_count": null,
   "id": "e7457b8e",
   "metadata": {},
   "outputs": [],
   "source": [
    "data={}\n",
    "with open('policyData\\\\taskData_bisTop.csv', 'r' ) as theFile:\n",
    "    reader = csv.reader(theFile)\n",
    "    headers = next(reader, None)\n",
    "    for line in reader:\n",
    "        if line[3] in bisTop.values.tolist():\n",
    "            if line[3] not in data:\n",
    "                data[line[3]] = []\n",
    "            data[line[3]].append(line)\n",
    "rlpOption={}\n",
    "with open('rlpOption.csv', 'r' ) as theFile:\n",
    "    reader = csv.reader(theFile)\n",
    "    headers = next(reader, None)\n",
    "    for line in reader:\n",
    "        if line[0] in data:\n",
    "            if line[0] not in rlpOption:\n",
    "                rlpOption[line[0]] = []\n",
    "                i = 0\n",
    "            if line[1] != 'NaN':\n",
    "                data[line[0]][i].append(line[1])\n",
    "                data[line[0]][i].append(line[2])\n",
    "                i += 1"
   ]
  },
  {
   "cell_type": "code",
   "execution_count": null,
   "id": "a84530ea",
   "metadata": {},
   "outputs": [],
   "source": [
    "results = [['id','varRNN','varRL']]\n",
    "for i in data:\n",
    "    varRNN = sum([np.log(float(pred[1])) for pred in data[i]])\n",
    "    varRL = sum([np.log(float(pred[5])) for pred in data[i] if len(pred)>5])\n",
    "    results.append([i,varRNN,varRL])\n",
    "np.savetxt(\"varData\\\\results_bisTop.csv\", \n",
    "           results,\n",
    "           delimiter =\", \", \n",
    "           fmt ='% s')"
   ]
  },
  {
   "cell_type": "code",
   "execution_count": null,
   "id": "b404aafe",
   "metadata": {},
   "outputs": [],
   "source": [
    "data={}\n",
    "with open('policyData\\\\taskData_staiBottom.csv', 'r' ) as theFile:\n",
    "    reader = csv.reader(theFile)\n",
    "    headers = next(reader, None)\n",
    "    for line in reader:\n",
    "        if line[3] in staiBottom.values.tolist():\n",
    "            if line[3] not in data:\n",
    "                data[line[3]] = []\n",
    "            data[line[3]].append(line)\n",
    "rlpOption={}\n",
    "with open('rlpOption.csv', 'r' ) as theFile:\n",
    "    reader = csv.reader(theFile)\n",
    "    headers = next(reader, None)\n",
    "    for line in reader:\n",
    "        if line[0] in data:\n",
    "            if line[0] not in rlpOption:\n",
    "                rlpOption[line[0]] = []\n",
    "                i = 0\n",
    "            if line[1] != 'NaN':\n",
    "                data[line[0]][i].append(line[1])\n",
    "                data[line[0]][i].append(line[2])\n",
    "                i += 1"
   ]
  },
  {
   "cell_type": "code",
   "execution_count": null,
   "id": "326de2b1",
   "metadata": {},
   "outputs": [],
   "source": [
    "results = [['id','varRNN','varRL']]\n",
    "for i in data:\n",
    "    varRNN = sum([np.log(float(pred[1])) for pred in data[i]])\n",
    "    varRL = sum([np.log(float(pred[5])) for pred in data[i] if len(pred)>5])\n",
    "    results.append([i,varRNN,varRL])\n",
    "np.savetxt(\"varData\\\\results_staiBottom.csv\", \n",
    "           results,\n",
    "           delimiter =\", \", \n",
    "           fmt ='% s')"
   ]
  },
  {
   "cell_type": "code",
   "execution_count": null,
   "id": "169230de",
   "metadata": {},
   "outputs": [],
   "source": [
    "data={}\n",
    "with open('policyData\\\\taskData_staiTop.csv', 'r' ) as theFile:\n",
    "    reader = csv.reader(theFile)\n",
    "    headers = next(reader, None)\n",
    "    for line in reader:\n",
    "        if line[3] in staiTop.values.tolist():\n",
    "            if line[3] not in data:\n",
    "                data[line[3]] = []\n",
    "            data[line[3]].append(line)\n",
    "rlpOption={}\n",
    "with open('rlpOption.csv', 'r' ) as theFile:\n",
    "    reader = csv.reader(theFile)\n",
    "    headers = next(reader, None)\n",
    "    for line in reader:\n",
    "        if line[0] in data:\n",
    "            if line[0] not in rlpOption:\n",
    "                rlpOption[line[0]] = []\n",
    "                i = 0\n",
    "            if line[1] != 'NaN':\n",
    "                data[line[0]][i].append(line[1])\n",
    "                data[line[0]][i].append(line[2])\n",
    "                i += 1"
   ]
  },
  {
   "cell_type": "code",
   "execution_count": null,
   "id": "4c7dad5c",
   "metadata": {},
   "outputs": [],
   "source": [
    "results = [['id','varRNN','varRL']]\n",
    "for i in data:\n",
    "    varRNN = sum([np.log(float(pred[1])) for pred in data[i]])\n",
    "    varRL = sum([np.log(float(pred[5])) for pred in data[i] if len(pred)>5])\n",
    "    results.append([i,varRNN,varRL])\n",
    "np.savetxt(\"varData\\\\results_staiTop.csv\", \n",
    "           results,\n",
    "           delimiter =\", \", \n",
    "           fmt ='% s')"
   ]
  }
 ],
 "metadata": {
  "kernelspec": {
   "display_name": "Python 3",
   "language": "python",
   "name": "python3"
  },
  "language_info": {
   "codemirror_mode": {
    "name": "ipython",
    "version": 3
   },
   "file_extension": ".py",
   "mimetype": "text/x-python",
   "name": "python",
   "nbconvert_exporter": "python",
   "pygments_lexer": "ipython3",
   "version": "3.7.9"
  }
 },
 "nbformat": 4,
 "nbformat_minor": 5
}
