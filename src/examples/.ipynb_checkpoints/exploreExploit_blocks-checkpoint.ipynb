{
 "cells": [
  {
   "cell_type": "code",
   "execution_count": 1,
   "metadata": {},
   "outputs": [
    {
     "name": "stdout",
     "output_type": "stream",
     "text": [
      "C:\\Users\\User\\Documents\\SURF 2021\\RL RNN SURF\\src\n"
     ]
    }
   ],
   "source": [
    "cd .."
   ]
  },
  {
   "cell_type": "markdown",
   "metadata": {},
   "source": [
    "We first define the input data. The input data is has the following structure: We have a group of subjects (say S1 and S2) and each subject has completed the decision-making task multiple times (multiple blocks), say each subject has completed the task two times in this example, i.e., we have two blocks of data for each subject. The data within each block is a ditonary containing three numpy arrays: 'action', 'state', 'reward'. \n",
    "\n",
    "'action' containig the actions taken by the subject on each trial and it should be a non-zero integer or -1. If the action is -1 it will coded by a zero vector and corresponds to no-action. Dimesionlity of 'action' is B x |T| in which |T| is the number of trials.\n",
    "\n",
    "'state' contains the state of the environment each trial. Its dimesionlity is B x |T| x |S| in which |T| is the number of trials, and |S| is the lenght of state vector. \n",
    "\n",
    "'reward' contains the reward received after taking each actions. Its dimesionlity is B x |T| in which |T| is the number of trials.\n",
    "\n",
    "For example, if subject S1 has completed 6 trials in the firt block and 4 trials in the second block and subject 2 has completed 5, 6 trials in the first and second blocks respectivly, then the data structure can look like this:\n",
    "\n",
    "   "
   ]
  },
  {
   "cell_type": "code",
   "execution_count": 2,
   "metadata": {},
   "outputs": [
    {
     "ename": "NameError",
     "evalue": "name 'struct' is not defined",
     "output_type": "error",
     "traceback": [
      "\u001b[1;31m---------------------------------------------------------------------------\u001b[0m",
      "\u001b[1;31mNameError\u001b[0m                                 Traceback (most recent call last)",
      "\u001b[1;32m<ipython-input-2-fbe8d4c85186>\u001b[0m in \u001b[0;36m<module>\u001b[1;34m\u001b[0m\n\u001b[0;32m     25\u001b[0m \u001b[1;33m\u001b[0m\u001b[0m\n\u001b[0;32m     26\u001b[0m                 \u001b[1;34m'block'\u001b[0m\u001b[1;33m:\u001b[0m \u001b[0mblockID\u001b[0m\u001b[1;33m\u001b[0m\u001b[1;33m\u001b[0m\u001b[0m\n\u001b[1;32m---> 27\u001b[1;33m             } for blockID in np.unique([struct[0,0]['blockID']])\n\u001b[0m\u001b[0;32m     28\u001b[0m \u001b[1;33m\u001b[0m\u001b[0m\n\u001b[0;32m     29\u001b[0m         ]\n",
      "\u001b[1;31mNameError\u001b[0m: name 'struct' is not defined"
     ]
    }
   ],
   "source": [
    "#  Data\n",
    "import numpy as np\n",
    "import csv\n",
    "data={}\n",
    "test_data = {}\n",
    "for i in range(1,101):\n",
    "    with open('simulationData\\sim_'+str(i)+'.csv', 'r' ) as theFile:\n",
    "        reader = csv.reader(theFile)\n",
    "        headers = next(reader, None)\n",
    "        actions = []\n",
    "        states = []\n",
    "        rewards = []\n",
    "        blocks = []\n",
    "        for line in reader:\n",
    "            actions.append(int(line[3]))\n",
    "            states.append([int(line[8]),int(line[9])])\n",
    "            rewards.append(int(line[5]))\n",
    "            blocks.append(int(line[0]))\n",
    "        block = [\n",
    "            {\n",
    "                'action': np.array([[resp-1 for (id,resp) in zip(blocks,actions) if id==blockID]]),\n",
    "                'state': np.array([[stimOffers for (id,stimOffers) in zip(blocks,states) if id==blockID]]),\n",
    "                'reward': np.array([[outcomeRew for (id,outcomeRew) in zip(blocks,rewards) if id==blockID]]),\n",
    "                'id': 'S'+str(i),\n",
    "\n",
    "                'block': blockID\n",
    "            } for blockID in blocks\n",
    "\n",
    "        ]\n",
    "#         block = [\n",
    "#                 {\n",
    "#                     'action': np.array([actions])-1,\n",
    "#                     'state': np.array([states])-1,\n",
    "#                     'reward': np.array([rewards]),\n",
    "#                     'id': 'S'+str(i),\n",
    "\n",
    "#                     'block': 0\n",
    "#                 }\n",
    "\n",
    "#             ]\n",
    "        if i<91:\n",
    "            data['S'+str(i)] = block\n",
    "        else:\n",
    "            test_data['S'+str(i)] = block"
   ]
  },
  {
   "cell_type": "code",
   "execution_count": null,
   "metadata": {},
   "outputs": [],
   "source": [
    "data"
   ]
  },
  {
   "cell_type": "markdown",
   "metadata": {},
   "source": [
    "In the above example, |A|=2 (there are two actions coded as 0 and 1), and |S|=2 (the state vector has two elements). For example, if there are three stimuli in the environment, they can be coded as [1, 0, 0], [0, 1, 0], [0, 0, 1] state vectors. In this case |S|=3."
   ]
  },
  {
   "cell_type": "code",
   "execution_count": null,
   "metadata": {
    "scrolled": true
   },
   "outputs": [],
   "source": [
    "from actionflow.rnn.lstm_beh import LSTMBeh\n",
    "worker = LSTMBeh(a_size=2, s_size=2, n_cells=20)"
   ]
  },
  {
   "cell_type": "markdown",
   "metadata": {},
   "source": [
    "Finally, we train the model:"
   ]
  },
  {
   "cell_type": "code",
   "execution_count": null,
   "metadata": {
    "scrolled": true
   },
   "outputs": [],
   "source": [
    "from actionflow.rnn.opt_beh import OptBEH\n",
    "from actionflow.util.logger import LogFile\n",
    "\n",
    "output_path = '../results/exploreExploit/'\n",
    "with LogFile(output_path, 'run.log'):\n",
    "    OptBEH.optimise(worker, output_path, data, None,\n",
    "                    learning_rate=0.01,\n",
    "                    global_iters=50,\n",
    "                    load_model_path=None\n",
    "                    )"
   ]
  },
  {
   "cell_type": "code",
   "execution_count": null,
   "metadata": {},
   "outputs": [],
   "source": []
  },
  {
   "cell_type": "code",
   "execution_count": null,
   "metadata": {},
   "outputs": [],
   "source": [
    "from actionflow.data.data_process import DataProcess\n",
    "train_merged = DataProcess.merge_data(data)\n",
    "train_merged"
   ]
  },
  {
   "cell_type": "markdown",
   "metadata": {},
   "source": [
    "And then the merged data can be used for training the model as before. The test data can also be passed to the training method, in order to test the mmodel on the training data in regular intervals. Say the test data is as follows:"
   ]
  },
  {
   "cell_type": "markdown",
   "metadata": {},
   "source": [
    "and we want to test the model every 10 iterations:"
   ]
  },
  {
   "cell_type": "code",
   "execution_count": null,
   "metadata": {
    "scrolled": true
   },
   "outputs": [],
   "source": [
    "with LogFile(output_path, 'run.log'):\n",
    "    OptBEH.optimise(worker, output_path, data, test_data,\n",
    "                    learning_rate=0.01,\n",
    "                    global_iters=50,\n",
    "                    load_model_path=None,\n",
    "                    test_period=10\n",
    "                    )"
   ]
  },
  {
   "cell_type": "code",
   "execution_count": null,
   "metadata": {
    "scrolled": false
   },
   "outputs": [],
   "source": [
    "test_data[\"S100\"]"
   ]
  },
  {
   "cell_type": "code",
   "execution_count": null,
   "metadata": {},
   "outputs": [],
   "source": []
  }
 ],
 "metadata": {
  "kernelspec": {
   "display_name": "Python 3",
   "language": "python",
   "name": "python3"
  },
  "language_info": {
   "codemirror_mode": {
    "name": "ipython",
    "version": 3
   },
   "file_extension": ".py",
   "mimetype": "text/x-python",
   "name": "python",
   "nbconvert_exporter": "python",
   "pygments_lexer": "ipython3",
   "version": "3.7.9"
  }
 },
 "nbformat": 4,
 "nbformat_minor": 1
}
