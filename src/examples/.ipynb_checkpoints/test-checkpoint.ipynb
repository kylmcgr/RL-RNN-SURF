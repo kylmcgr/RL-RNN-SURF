{
 "cells": [
  {
   "cell_type": "code",
   "execution_count": 1,
   "metadata": {},
   "outputs": [
    {
     "name": "stdout",
     "output_type": "stream",
     "text": [
      "C:\\Users\\User\\Documents\\SURF 2021\\RL RNN SURF\\src\n"
     ]
    }
   ],
   "source": [
    "cd .."
   ]
  },
  {
   "cell_type": "markdown",
   "metadata": {},
   "source": [
    "We first define the input data. The input data is has the following structure: We have a group of subjects (say S1 and S2) and each subject has completed the decision-making task multiple times (multiple blocks), say each subject has completed the task two times in this example, i.e., we have two blocks of data for each subject. The data within each block is a ditonary containing three numpy arrays: 'action', 'state', 'reward'. \n",
    "\n",
    "'action' containig the actions taken by the subject on each trial and it should be a non-zero integer or -1. If the action is -1 it will coded by a zero vector and corresponds to no-action. Dimesionlity of 'action' is B x |T| in which |T| is the number of trials.\n",
    "\n",
    "'state' contains the state of the environment each trial. Its dimesionlity is B x |T| x |S| in which |T| is the number of trials, and |S| is the lenght of state vector. \n",
    "\n",
    "'reward' contains the reward received after taking each actions. Its dimesionlity is B x |T| in which |T| is the number of trials.\n",
    "\n",
    "For example, if subject S1 has completed 6 trials in the firt block and 4 trials in the second block and subject 2 has completed 5, 6 trials in the first and second blocks respectivly, then the data structure can look like this:\n",
    "\n",
    "   "
   ]
  },
  {
   "cell_type": "code",
   "execution_count": 26,
   "metadata": {},
   "outputs": [
    {
     "name": "stdout",
     "output_type": "stream",
     "text": [
      "genData_smG_rlG\\sub_1.mat\n",
      "genData_smG_rlG\\sub_2.mat\n",
      "genData_smG_rlG\\sub_3.mat\n",
      "genData_smG_rlG\\sub_4.mat\n",
      "genData_smG_rlG\\sub_5.mat\n",
      "genData_smG_rlG\\sub_6.mat\n",
      "genData_smG_rlG\\sub_7.mat\n",
      "genData_smG_rlG\\sub_8.mat\n",
      "genData_smG_rlG\\sub_9.mat\n",
      "genData_smG_rlG\\sub_10.mat\n",
      "genData_smG_rlG\\sub_11.mat\n",
      "genData_smG_rlG\\sub_12.mat\n",
      "genData_smG_rlG\\sub_13.mat\n",
      "genData_smG_rlG\\sub_14.mat\n",
      "genData_smG_rlG\\sub_15.mat\n",
      "genData_smG_rlG\\sub_16.mat\n",
      "genData_smG_rlG\\sub_17.mat\n",
      "genData_smG_rlG\\sub_18.mat\n",
      "genData_smG_rlG\\sub_19.mat\n",
      "genData_smG_rlG\\sub_20.mat\n",
      "genData_smG_rlG\\sub_21.mat\n",
      "genData_smG_rlG\\sub_22.mat\n",
      "genData_smG_rlG\\sub_23.mat\n",
      "genData_smG_rlG\\sub_24.mat\n",
      "genData_smG_rlG\\sub_25.mat\n",
      "genData_smG_rlG\\sub_26.mat\n",
      "genData_smG_rlG\\sub_27.mat\n",
      "genData_smG_rlG\\sub_28.mat\n",
      "genData_smG_rlG\\sub_29.mat\n",
      "genData_smG_rlG\\sub_30.mat\n",
      "genData_smG_rlG\\sub_31.mat\n",
      "genData_smG_rlG\\sub_32.mat\n",
      "genData_smG_rlG\\sub_33.mat\n",
      "genData_smG_rlG\\sub_34.mat\n",
      "genData_smG_rlG\\sub_35.mat\n",
      "genData_smG_rlG\\sub_36.mat\n",
      "genData_smG_rlG\\sub_37.mat\n",
      "genData_smG_rlG\\sub_38.mat\n",
      "genData_smG_rlG\\sub_39.mat\n",
      "genData_smG_rlG\\sub_40.mat\n",
      "genData_smG_rlG\\sub_41.mat\n",
      "genData_smG_rlG\\sub_42.mat\n",
      "genData_smG_rlG\\sub_43.mat\n",
      "genData_smG_rlG\\sub_44.mat\n",
      "genData_smG_rlG\\sub_45.mat\n",
      "genData_smG_rlG\\sub_46.mat\n",
      "genData_smG_rlG\\sub_47.mat\n",
      "genData_smG_rlG\\sub_48.mat\n",
      "genData_smG_rlG\\sub_49.mat\n",
      "genData_smG_rlG\\sub_50.mat\n",
      "genData_smG_rlG\\sub_51.mat\n",
      "genData_smG_rlG\\sub_52.mat\n",
      "genData_smG_rlG\\sub_53.mat\n",
      "genData_smG_rlG\\sub_54.mat\n",
      "genData_smG_rlG\\sub_55.mat\n",
      "genData_smG_rlG\\sub_56.mat\n",
      "genData_smG_rlG\\sub_57.mat\n",
      "genData_smG_rlG\\sub_58.mat\n",
      "genData_smG_rlG\\sub_59.mat\n",
      "genData_smG_rlG\\sub_60.mat\n",
      "genData_smG_rlG\\sub_61.mat\n",
      "genData_smG_rlG\\sub_62.mat\n",
      "genData_smG_rlG\\sub_63.mat\n",
      "genData_smG_rlG\\sub_64.mat\n",
      "genData_smG_rlG\\sub_65.mat\n",
      "genData_smG_rlG\\sub_66.mat\n",
      "genData_smG_rlG\\sub_67.mat\n",
      "genData_smG_rlG\\sub_68.mat\n",
      "genData_smG_rlG\\sub_69.mat\n",
      "genData_smG_rlG\\sub_70.mat\n",
      "genData_smG_rlG\\sub_71.mat\n",
      "genData_smG_rlG\\sub_72.mat\n",
      "genData_smG_rlG\\sub_73.mat\n",
      "genData_smG_rlG\\sub_74.mat\n",
      "genData_smG_rlG\\sub_75.mat\n",
      "genData_smG_rlG\\sub_76.mat\n",
      "genData_smG_rlG\\sub_77.mat\n",
      "genData_smG_rlG\\sub_78.mat\n",
      "genData_smG_rlG\\sub_79.mat\n",
      "genData_smG_rlG\\sub_80.mat\n",
      "genData_smG_rlG\\sub_81.mat\n",
      "genData_smG_rlG\\sub_82.mat\n",
      "genData_smG_rlG\\sub_83.mat\n",
      "genData_smG_rlG\\sub_84.mat\n",
      "genData_smG_rlG\\sub_85.mat\n",
      "genData_smG_rlG\\sub_86.mat\n",
      "genData_smG_rlG\\sub_87.mat\n",
      "genData_smG_rlG\\sub_88.mat\n",
      "genData_smG_rlG\\sub_89.mat\n",
      "genData_smG_rlG\\sub_90.mat\n",
      "genData_smG_rlG\\sub_91.mat\n",
      "genData_smG_rlG\\sub_92.mat\n",
      "genData_smG_rlG\\sub_93.mat\n",
      "genData_smG_rlG\\sub_94.mat\n",
      "genData_smG_rlG\\sub_95.mat\n",
      "genData_smG_rlG\\sub_96.mat\n",
      "genData_smG_rlG\\sub_97.mat\n",
      "genData_smG_rlG\\sub_98.mat\n",
      "genData_smG_rlG\\sub_99.mat\n",
      "genData_smG_rlG\\sub_100.mat\n"
     ]
    }
   ],
   "source": [
    "#  Data\n",
    "import numpy as np\n",
    "import scipy.io as spio\n",
    "data = {}\n",
    "for i in range(1,101):\n",
    "    testData = spio.loadmat('genData_smG_rlG\\sub_'+str(i)+'.mat')\n",
    "    struct = testData['subData']\n",
    "    data['S'+str(i)] =\n",
    "            [\n",
    "                {\n",
    "                    'action': np.array([struct[0,0]['resp'].flatten()]),\n",
    "                    'state': np.array([struct[0,0]['stimOffers']]),\n",
    "                    'reward': np.array([struct[0,0]['outcomeRew'].flatten()]),\n",
    "                    'id': 'S'+str(i),\n",
    "\n",
    "                    'block': 0\n",
    "                }\n",
    "\n",
    "            ]\n"
   ]
  },
  {
   "cell_type": "code",
   "execution_count": 23,
   "metadata": {},
   "outputs": [
    {
     "data": {
      "text/plain": [
       "{'S1': [{'action': array([[1, 1, 2, 1, 1, 2, 2, 1, 1, 2, 2, 2, 1, 2, 2, 2, 1, 2, 2, 1, 2, 1,\n",
       "           1, 2, 1, 1, 2, 2, 1, 2, 2, 1, 2, 1, 1, 1, 1, 2, 2, 2, 2, 2, 1, 2,\n",
       "           1, 2, 1, 2, 2, 2, 1, 1, 1, 2, 2, 1, 1, 1, 1, 2, 1, 2, 2, 2, 1, 2,\n",
       "           2, 1, 1, 2, 2, 1, 1, 1, 1, 2, 2, 2, 2, 1, 2, 1, 2, 1, 1, 2, 1, 2,\n",
       "           2, 2, 1, 2, 1, 2, 1, 2, 2, 1, 2, 2, 2, 1, 1, 2, 1, 2, 1, 1, 1, 2,\n",
       "           2, 1, 2, 1, 1, 2, 2, 1, 1, 1, 1, 1, 1, 1, 1, 1, 1, 2, 1, 1, 1, 1,\n",
       "           2, 1, 1, 1, 2, 1, 1, 2, 1, 1, 2, 2, 2, 1, 2, 2, 2, 1, 1, 2, 1, 2,\n",
       "           1, 1, 1, 2, 2, 1, 2, 1, 1, 2, 2, 1, 1, 1, 1, 1, 1, 1, 1, 1, 1, 2,\n",
       "           1, 1, 1, 1, 1, 1, 1, 1, 2, 1, 1, 2, 1, 1, 2, 2]], dtype=uint8),\n",
       "   'state': array([[[3, 1],\n",
       "           [3, 2],\n",
       "           [3, 1],\n",
       "           [2, 1],\n",
       "           [3, 1],\n",
       "           [2, 1],\n",
       "           [1, 3],\n",
       "           [2, 1],\n",
       "           [2, 3],\n",
       "           [3, 1],\n",
       "           [3, 1],\n",
       "           [1, 2],\n",
       "           [2, 3],\n",
       "           [1, 2],\n",
       "           [1, 2],\n",
       "           [1, 2],\n",
       "           [2, 1],\n",
       "           [3, 2],\n",
       "           [3, 2],\n",
       "           [2, 3],\n",
       "           [3, 1],\n",
       "           [2, 3],\n",
       "           [1, 3],\n",
       "           [3, 2],\n",
       "           [2, 1],\n",
       "           [2, 1],\n",
       "           [3, 2],\n",
       "           [1, 3],\n",
       "           [2, 1],\n",
       "           [2, 1],\n",
       "           [2, 3],\n",
       "           [1, 2],\n",
       "           [2, 3],\n",
       "           [3, 2],\n",
       "           [1, 3],\n",
       "           [3, 1],\n",
       "           [3, 2],\n",
       "           [3, 1],\n",
       "           [3, 2],\n",
       "           [3, 1],\n",
       "           [2, 1],\n",
       "           [2, 3],\n",
       "           [3, 2],\n",
       "           [1, 3],\n",
       "           [1, 2],\n",
       "           [2, 1],\n",
       "           [1, 3],\n",
       "           [3, 1],\n",
       "           [3, 1],\n",
       "           [3, 2],\n",
       "           [3, 1],\n",
       "           [2, 1],\n",
       "           [3, 1],\n",
       "           [2, 1],\n",
       "           [1, 3],\n",
       "           [2, 1],\n",
       "           [2, 3],\n",
       "           [3, 1],\n",
       "           [3, 1],\n",
       "           [1, 2],\n",
       "           [2, 3],\n",
       "           [1, 2],\n",
       "           [1, 2],\n",
       "           [1, 2],\n",
       "           [2, 1],\n",
       "           [3, 2],\n",
       "           [3, 2],\n",
       "           [2, 3],\n",
       "           [3, 1],\n",
       "           [2, 3],\n",
       "           [1, 3],\n",
       "           [3, 2],\n",
       "           [2, 1],\n",
       "           [2, 1],\n",
       "           [3, 2],\n",
       "           [1, 3],\n",
       "           [2, 1],\n",
       "           [2, 1],\n",
       "           [2, 3],\n",
       "           [1, 2],\n",
       "           [2, 3],\n",
       "           [3, 2],\n",
       "           [1, 3],\n",
       "           [3, 1],\n",
       "           [3, 2],\n",
       "           [3, 1],\n",
       "           [3, 2],\n",
       "           [3, 1],\n",
       "           [2, 1],\n",
       "           [2, 3],\n",
       "           [3, 2],\n",
       "           [1, 3],\n",
       "           [1, 2],\n",
       "           [2, 1],\n",
       "           [1, 3],\n",
       "           [3, 1],\n",
       "           [1, 2],\n",
       "           [3, 1],\n",
       "           [1, 3],\n",
       "           [2, 3],\n",
       "           [2, 3],\n",
       "           [3, 1],\n",
       "           [3, 2],\n",
       "           [1, 3],\n",
       "           [3, 2],\n",
       "           [2, 1],\n",
       "           [1, 2],\n",
       "           [1, 2],\n",
       "           [1, 2],\n",
       "           [1, 3],\n",
       "           [2, 3],\n",
       "           [3, 1],\n",
       "           [1, 2],\n",
       "           [2, 1],\n",
       "           [2, 3],\n",
       "           [3, 1],\n",
       "           [3, 1],\n",
       "           [2, 3],\n",
       "           [1, 3],\n",
       "           [2, 3],\n",
       "           [1, 2],\n",
       "           [2, 3],\n",
       "           [2, 3],\n",
       "           [2, 3],\n",
       "           [2, 1],\n",
       "           [1, 3],\n",
       "           [2, 1],\n",
       "           [3, 1],\n",
       "           [2, 1],\n",
       "           [2, 3],\n",
       "           [2, 3],\n",
       "           [1, 2],\n",
       "           [3, 1],\n",
       "           [3, 2],\n",
       "           [2, 1],\n",
       "           [2, 1],\n",
       "           [1, 3],\n",
       "           [3, 1],\n",
       "           [2, 1],\n",
       "           [2, 3],\n",
       "           [3, 2],\n",
       "           [2, 1],\n",
       "           [1, 3],\n",
       "           [1, 3],\n",
       "           [1, 2],\n",
       "           [3, 1],\n",
       "           [1, 3],\n",
       "           [2, 3],\n",
       "           [2, 3],\n",
       "           [3, 1],\n",
       "           [3, 2],\n",
       "           [1, 3],\n",
       "           [3, 2],\n",
       "           [2, 1],\n",
       "           [1, 2],\n",
       "           [1, 2],\n",
       "           [1, 2],\n",
       "           [1, 3],\n",
       "           [2, 3],\n",
       "           [3, 1],\n",
       "           [1, 2],\n",
       "           [2, 1],\n",
       "           [2, 3],\n",
       "           [3, 1],\n",
       "           [3, 1],\n",
       "           [2, 3],\n",
       "           [1, 3],\n",
       "           [2, 3],\n",
       "           [1, 2],\n",
       "           [2, 3],\n",
       "           [2, 3],\n",
       "           [2, 3],\n",
       "           [2, 1],\n",
       "           [1, 3],\n",
       "           [2, 1],\n",
       "           [3, 1],\n",
       "           [2, 1],\n",
       "           [2, 3],\n",
       "           [2, 3],\n",
       "           [1, 2],\n",
       "           [3, 1],\n",
       "           [3, 2],\n",
       "           [2, 1],\n",
       "           [2, 1],\n",
       "           [1, 3],\n",
       "           [3, 1],\n",
       "           [2, 1],\n",
       "           [2, 3],\n",
       "           [3, 2],\n",
       "           [2, 1],\n",
       "           [1, 3],\n",
       "           [1, 3]]], dtype=uint8),\n",
       "   'reward': array([[ 25,   0,   0,   0,   0,   0,   0,  25,  25,  25,   0,  25,   0,\n",
       "            25,  25,  25,  25,  25,  25,   0,   0,  25,   0,  25,   0,   0,\n",
       "             0,  25,   0,  25,   0,  25,  25,  25,   0,   0,   0,  25,   0,\n",
       "            25,   0,  25,  25,   0,   0,  25,  25,   0, -25, -25,   0, -25,\n",
       "           -25, -25, -25,   0,   0,   0, -25,   0, -25,   0,   0,   0,   0,\n",
       "             0,   0, -25,   0, -25,   0,   0, -25, -25,   0,   0,   0,   0,\n",
       "           -25,   0,   0,   0,   0, -25, -25,   0,   0,   0, -25,   0,   0,\n",
       "           -25, -25,   0,   0, -25,   0,  25,  25,  25,  25,  25,  25,  25,\n",
       "             0,  25,  25,   0,   0,  25,   0,   0,  25,  25,  25,  25,  25,\n",
       "            25,  25,   0,   0,  25,   0,  25,  25,  25,   0,   0,  25,   0,\n",
       "             0,   0,   0,   0,  25,   0,  25,  25,  25,  25,  25,   0,  25,\n",
       "            25, -25,   0,   0,   0,   0,   0,   0,   0, -25,   0,   0, -25,\n",
       "           -25,   0, -25, -25,   0,   0,   0,   0,   0,   0,   0, -25, -25,\n",
       "             0, -25,   0,   0,   0, -25, -25,   0, -25, -25, -25,   0, -25,\n",
       "             0, -25,   0,   0,   0,   0,   0, -25,   0,   0]], dtype=int16),\n",
       "   'id': 'S1',\n",
       "   'block': 0}]}"
      ]
     },
     "execution_count": 23,
     "metadata": {},
     "output_type": "execute_result"
    }
   ],
   "source": [
    "data"
   ]
  },
  {
   "cell_type": "markdown",
   "metadata": {},
   "source": [
    "In the above example, |A|=2 (there are two actions coded as 0 and 1), and |S|=2 (the state vector has two elements). For example, if there are three stimuli in the environment, they can be coded as [1, 0, 0], [0, 1, 0], [0, 0, 1] state vectors. In this case |S|=3."
   ]
  },
  {
   "cell_type": "code",
   "execution_count": 6,
   "metadata": {
    "scrolled": true
   },
   "outputs": [
    {
     "name": "stderr",
     "output_type": "stream",
     "text": [
      "c:\\users\\user\\documents\\surf 2021\\rl rnn surf\\venv\\lib\\site-packages\\tensorflow\\python\\framework\\dtypes.py:526: FutureWarning: Passing (type, 1) or '1type' as a synonym of type is deprecated; in a future version of numpy, it will be understood as (type, (1,)) / '(1,)type'.\n",
      "  _np_qint8 = np.dtype([(\"qint8\", np.int8, 1)])\n",
      "c:\\users\\user\\documents\\surf 2021\\rl rnn surf\\venv\\lib\\site-packages\\tensorflow\\python\\framework\\dtypes.py:527: FutureWarning: Passing (type, 1) or '1type' as a synonym of type is deprecated; in a future version of numpy, it will be understood as (type, (1,)) / '(1,)type'.\n",
      "  _np_quint8 = np.dtype([(\"quint8\", np.uint8, 1)])\n",
      "c:\\users\\user\\documents\\surf 2021\\rl rnn surf\\venv\\lib\\site-packages\\tensorflow\\python\\framework\\dtypes.py:528: FutureWarning: Passing (type, 1) or '1type' as a synonym of type is deprecated; in a future version of numpy, it will be understood as (type, (1,)) / '(1,)type'.\n",
      "  _np_qint16 = np.dtype([(\"qint16\", np.int16, 1)])\n",
      "c:\\users\\user\\documents\\surf 2021\\rl rnn surf\\venv\\lib\\site-packages\\tensorflow\\python\\framework\\dtypes.py:529: FutureWarning: Passing (type, 1) or '1type' as a synonym of type is deprecated; in a future version of numpy, it will be understood as (type, (1,)) / '(1,)type'.\n",
      "  _np_quint16 = np.dtype([(\"quint16\", np.uint16, 1)])\n",
      "c:\\users\\user\\documents\\surf 2021\\rl rnn surf\\venv\\lib\\site-packages\\tensorflow\\python\\framework\\dtypes.py:530: FutureWarning: Passing (type, 1) or '1type' as a synonym of type is deprecated; in a future version of numpy, it will be understood as (type, (1,)) / '(1,)type'.\n",
      "  _np_qint32 = np.dtype([(\"qint32\", np.int32, 1)])\n",
      "c:\\users\\user\\documents\\surf 2021\\rl rnn surf\\venv\\lib\\site-packages\\tensorflow\\python\\framework\\dtypes.py:535: FutureWarning: Passing (type, 1) or '1type' as a synonym of type is deprecated; in a future version of numpy, it will be understood as (type, (1,)) / '(1,)type'.\n",
      "  np_resource = np.dtype([(\"resource\", np.ubyte, 1)])\n",
      "2021-06-30 12:24:40,512 - DeepRL - DEBUG - model created with ncells: 5\n",
      "2021-06-30 12:24:40,513 - DeepRL - DEBUG - number of actions: 2\n",
      "2021-06-30 12:24:40,514 - DeepRL - DEBUG - number of states: 2\n"
     ]
    },
    {
     "name": "stdout",
     "output_type": "stream",
     "text": [
      "WARNING:tensorflow:From C:\\Users\\User\\Documents\\SURF 2021\\RL RNN SURF\\src\\actionflow\\rnn\\lstm_base.py:14: BasicLSTMCell.__init__ (from tensorflow.python.ops.rnn_cell_impl) is deprecated and will be removed in a future version.\n",
      "Instructions for updating:\n",
      "This class is equivalent as tf.keras.layers.LSTMCell, and will be replaced by that in Tensorflow 2.0.\n",
      "WARNING:tensorflow:From c:\\users\\user\\documents\\surf 2021\\rl rnn surf\\venv\\lib\\site-packages\\tensorflow\\python\\ops\\control_flow_ops.py:423: colocate_with (from tensorflow.python.framework.ops) is deprecated and will be removed in a future version.\n",
      "Instructions for updating:\n",
      "Colocations handled automatically by placer.\n",
      "WARNING:tensorflow:From C:\\Users\\User\\Documents\\SURF 2021\\RL RNN SURF\\src\\actionflow\\rnn\\lstm_base.py:43: dynamic_rnn (from tensorflow.python.ops.rnn) is deprecated and will be removed in a future version.\n",
      "Instructions for updating:\n",
      "Please use `keras.layers.RNN(cell)`, which is equivalent to this API\n"
     ]
    }
   ],
   "source": [
    "from actionflow.rnn.lstm_beh import LSTMBeh\n",
    "worker = LSTMBeh(a_size=2, s_size=2, n_cells=5)"
   ]
  },
  {
   "cell_type": "markdown",
   "metadata": {},
   "source": [
    "Finally, we train the model:"
   ]
  },
  {
   "cell_type": "code",
   "execution_count": 55,
   "metadata": {},
   "outputs": [
    {
     "name": "stderr",
     "output_type": "stream",
     "text": [
      "2021-06-29 17:12:57,655 - DeepRL - DEBUG - version control: (None, None)\n",
      "2021-06-29 17:12:57,656 - DeepRL - DEBUG - learning rate: 0.01\n",
      "2021-06-29 17:12:57,657 - DeepRL - DEBUG - global iters: 50\n",
      "2021-06-29 17:12:57,657 - DeepRL - DEBUG - training data-points: 1\n",
      "2021-06-29 17:12:57,658 - DeepRL - DEBUG - test data-points: None\n"
     ]
    },
    {
     "name": "stdout",
     "output_type": "stream",
     "text": [
      "WARNING:tensorflow:From c:\\users\\user\\documents\\surf 2021\\rl rnn surf\\venv\\lib\\site-packages\\tensorflow\\python\\ops\\math_ops.py:3066: to_int32 (from tensorflow.python.ops.math_ops) is deprecated and will be removed in a future version.\n",
      "Instructions for updating:\n",
      "Use tf.cast instead.\n"
     ]
    },
    {
     "name": "stderr",
     "output_type": "stream",
     "text": [
      "2021-06-29 17:12:58,124 - DeepRL - DEBUG - opt started...\n"
     ]
    },
    {
     "name": "stdout",
     "output_type": "stream",
     "text": [
      "INFO:tensorflow:../results/model-0/model.cptk is not in all_model_checkpoint_paths. Manually adding it.\n"
     ]
    },
    {
     "ename": "ValueError",
     "evalue": "all the input arrays must have same number of dimensions, but the array at index 0 has 2 dimension(s) and the array at index 1 has 1 dimension(s)",
     "output_type": "error",
     "traceback": [
      "\u001b[1;31m---------------------------------------------------------------------------\u001b[0m",
      "\u001b[1;31mValueError\u001b[0m                                Traceback (most recent call last)",
      "\u001b[1;32m<ipython-input-55-21290e3868ff>\u001b[0m in \u001b[0;36m<module>\u001b[1;34m\u001b[0m\n\u001b[0;32m      7\u001b[0m                     \u001b[0mlearning_rate\u001b[0m\u001b[1;33m=\u001b[0m\u001b[1;36m0.01\u001b[0m\u001b[1;33m,\u001b[0m\u001b[1;33m\u001b[0m\u001b[1;33m\u001b[0m\u001b[0m\n\u001b[0;32m      8\u001b[0m                     \u001b[0mglobal_iters\u001b[0m\u001b[1;33m=\u001b[0m\u001b[1;36m50\u001b[0m\u001b[1;33m,\u001b[0m\u001b[1;33m\u001b[0m\u001b[1;33m\u001b[0m\u001b[0m\n\u001b[1;32m----> 9\u001b[1;33m                     \u001b[0mload_model_path\u001b[0m\u001b[1;33m=\u001b[0m\u001b[1;32mNone\u001b[0m\u001b[1;33m\u001b[0m\u001b[1;33m\u001b[0m\u001b[0m\n\u001b[0m\u001b[0;32m     10\u001b[0m                     )\n",
      "\u001b[1;32m~\\Documents\\SURF 2021\\RL RNN SURF\\src\\actionflow\\rnn\\opt_beh.py\u001b[0m in \u001b[0;36moptimise\u001b[1;34m(model, output_path, train, test, learning_rate, global_iters, test_period, load_model_path, GPU)\u001b[0m\n\u001b[0;32m    110\u001b[0m                 \u001b[0mlocal_obj\u001b[0m \u001b[1;33m=\u001b[0m \u001b[1;36m0\u001b[0m\u001b[1;33m\u001b[0m\u001b[1;33m\u001b[0m\u001b[0m\n\u001b[0;32m    111\u001b[0m                 \u001b[1;32mfor\u001b[0m \u001b[0mk\u001b[0m \u001b[1;32min\u001b[0m \u001b[0msorted\u001b[0m\u001b[1;33m(\u001b[0m\u001b[0mtrain\u001b[0m\u001b[1;33m.\u001b[0m\u001b[0mkeys\u001b[0m\u001b[1;33m(\u001b[0m\u001b[1;33m)\u001b[0m\u001b[1;33m)\u001b[0m\u001b[1;33m:\u001b[0m\u001b[1;33m\u001b[0m\u001b[1;33m\u001b[0m\u001b[0m\n\u001b[1;32m--> 112\u001b[1;33m                     \u001b[0mlocal_obj\u001b[0m \u001b[1;33m+=\u001b[0m \u001b[0mOptBEH\u001b[0m\u001b[1;33m.\u001b[0m\u001b[0mtrain\u001b[0m\u001b[1;33m(\u001b[0m\u001b[0mmodel\u001b[0m\u001b[1;33m,\u001b[0m \u001b[0msess\u001b[0m\u001b[1;33m,\u001b[0m \u001b[0mtrain\u001b[0m\u001b[1;33m[\u001b[0m\u001b[0mk\u001b[0m\u001b[1;33m]\u001b[0m\u001b[1;33m,\u001b[0m \u001b[0mapply_grads\u001b[0m\u001b[1;33m)\u001b[0m\u001b[1;33m\u001b[0m\u001b[1;33m\u001b[0m\u001b[0m\n\u001b[0m\u001b[0;32m    113\u001b[0m                 \u001b[1;31m#################### end of training ############\u001b[0m\u001b[1;33m\u001b[0m\u001b[1;33m\u001b[0m\u001b[1;33m\u001b[0m\u001b[0m\n\u001b[0;32m    114\u001b[0m \u001b[1;33m\u001b[0m\u001b[0m\n",
      "\u001b[1;32m~\\Documents\\SURF 2021\\RL RNN SURF\\src\\actionflow\\rnn\\opt_beh.py\u001b[0m in \u001b[0;36mtrain\u001b[1;34m(model, sess, train_data, apply_grads)\u001b[0m\n\u001b[0;32m    127\u001b[0m         \u001b[0ml\u001b[0m \u001b[1;33m=\u001b[0m \u001b[1;36m0\u001b[0m\u001b[1;33m\u001b[0m\u001b[1;33m\u001b[0m\u001b[0m\n\u001b[0;32m    128\u001b[0m         \u001b[1;32mfor\u001b[0m \u001b[0md\u001b[0m \u001b[1;32min\u001b[0m \u001b[0mtrain_data\u001b[0m\u001b[1;33m:\u001b[0m\u001b[1;33m\u001b[0m\u001b[1;33m\u001b[0m\u001b[0m\n\u001b[1;32m--> 129\u001b[1;33m             \u001b[0mfeed_dict\u001b[0m \u001b[1;33m=\u001b[0m \u001b[0mmodel\u001b[0m\u001b[1;33m.\u001b[0m\u001b[0mbeh_feed\u001b[0m\u001b[1;33m(\u001b[0m\u001b[0md\u001b[0m\u001b[1;33m[\u001b[0m\u001b[1;34m'action'\u001b[0m\u001b[1;33m]\u001b[0m\u001b[1;33m,\u001b[0m \u001b[0md\u001b[0m\u001b[1;33m[\u001b[0m\u001b[1;34m'reward'\u001b[0m\u001b[1;33m]\u001b[0m\u001b[1;33m,\u001b[0m \u001b[0md\u001b[0m\u001b[1;33m[\u001b[0m\u001b[1;34m'state'\u001b[0m\u001b[1;33m]\u001b[0m\u001b[1;33m)\u001b[0m\u001b[1;33m\u001b[0m\u001b[1;33m\u001b[0m\u001b[0m\n\u001b[0m\u001b[0;32m    130\u001b[0m             loss, _ = sess.run([model.get_obj(),\n\u001b[0;32m    131\u001b[0m                                 apply_grads],\n",
      "\u001b[1;32m~\\Documents\\SURF 2021\\RL RNN SURF\\src\\actionflow\\rnn\\lstm_base.py\u001b[0m in \u001b[0;36mbeh_feed\u001b[1;34m(self, actions, rewards, states)\u001b[0m\n\u001b[0;32m     90\u001b[0m         \"\"\"\n\u001b[0;32m     91\u001b[0m \u001b[1;33m\u001b[0m\u001b[0m\n\u001b[1;32m---> 92\u001b[1;33m         \u001b[0mprev_rewards\u001b[0m \u001b[1;33m=\u001b[0m \u001b[0mnp\u001b[0m\u001b[1;33m.\u001b[0m\u001b[0mhstack\u001b[0m\u001b[1;33m(\u001b[0m\u001b[1;33m(\u001b[0m\u001b[0mnp\u001b[0m\u001b[1;33m.\u001b[0m\u001b[0mzeros\u001b[0m\u001b[1;33m(\u001b[0m\u001b[1;33m(\u001b[0m\u001b[0mrewards\u001b[0m\u001b[1;33m.\u001b[0m\u001b[0mshape\u001b[0m\u001b[1;33m[\u001b[0m\u001b[1;36m0\u001b[0m\u001b[1;33m]\u001b[0m\u001b[1;33m,\u001b[0m \u001b[1;36m1\u001b[0m\u001b[1;33m)\u001b[0m\u001b[1;33m)\u001b[0m\u001b[1;33m,\u001b[0m \u001b[0mrewards\u001b[0m\u001b[1;33m)\u001b[0m\u001b[1;33m)\u001b[0m\u001b[1;33m\u001b[0m\u001b[1;33m\u001b[0m\u001b[0m\n\u001b[0m\u001b[0;32m     93\u001b[0m         \u001b[0mprev_actions\u001b[0m \u001b[1;33m=\u001b[0m \u001b[0mnp\u001b[0m\u001b[1;33m.\u001b[0m\u001b[0mhstack\u001b[0m\u001b[1;33m(\u001b[0m\u001b[1;33m(\u001b[0m\u001b[1;33m-\u001b[0m\u001b[1;36m1\u001b[0m \u001b[1;33m*\u001b[0m \u001b[0mnp\u001b[0m\u001b[1;33m.\u001b[0m\u001b[0mones\u001b[0m\u001b[1;33m(\u001b[0m\u001b[1;33m(\u001b[0m\u001b[0mactions\u001b[0m\u001b[1;33m.\u001b[0m\u001b[0mshape\u001b[0m\u001b[1;33m[\u001b[0m\u001b[1;36m0\u001b[0m\u001b[1;33m]\u001b[0m\u001b[1;33m,\u001b[0m \u001b[1;36m1\u001b[0m\u001b[1;33m)\u001b[0m\u001b[1;33m)\u001b[0m\u001b[1;33m,\u001b[0m \u001b[0mactions\u001b[0m\u001b[1;33m)\u001b[0m\u001b[1;33m)\u001b[0m\u001b[1;33m\u001b[0m\u001b[1;33m\u001b[0m\u001b[0m\n\u001b[0;32m     94\u001b[0m         \u001b[0mrnn_state\u001b[0m \u001b[1;33m=\u001b[0m \u001b[0mself\u001b[0m\u001b[1;33m.\u001b[0m\u001b[0mstate_init\u001b[0m\u001b[1;33m\u001b[0m\u001b[1;33m\u001b[0m\u001b[0m\n",
      "\u001b[1;32m<__array_function__ internals>\u001b[0m in \u001b[0;36mhstack\u001b[1;34m(*args, **kwargs)\u001b[0m\n",
      "\u001b[1;32mc:\\users\\user\\documents\\surf 2021\\rl rnn surf\\venv\\lib\\site-packages\\numpy\\core\\shape_base.py\u001b[0m in \u001b[0;36mhstack\u001b[1;34m(tup)\u001b[0m\n\u001b[0;32m    343\u001b[0m         \u001b[1;32mreturn\u001b[0m \u001b[0m_nx\u001b[0m\u001b[1;33m.\u001b[0m\u001b[0mconcatenate\u001b[0m\u001b[1;33m(\u001b[0m\u001b[0marrs\u001b[0m\u001b[1;33m,\u001b[0m \u001b[1;36m0\u001b[0m\u001b[1;33m)\u001b[0m\u001b[1;33m\u001b[0m\u001b[1;33m\u001b[0m\u001b[0m\n\u001b[0;32m    344\u001b[0m     \u001b[1;32melse\u001b[0m\u001b[1;33m:\u001b[0m\u001b[1;33m\u001b[0m\u001b[1;33m\u001b[0m\u001b[0m\n\u001b[1;32m--> 345\u001b[1;33m         \u001b[1;32mreturn\u001b[0m \u001b[0m_nx\u001b[0m\u001b[1;33m.\u001b[0m\u001b[0mconcatenate\u001b[0m\u001b[1;33m(\u001b[0m\u001b[0marrs\u001b[0m\u001b[1;33m,\u001b[0m \u001b[1;36m1\u001b[0m\u001b[1;33m)\u001b[0m\u001b[1;33m\u001b[0m\u001b[1;33m\u001b[0m\u001b[0m\n\u001b[0m\u001b[0;32m    346\u001b[0m \u001b[1;33m\u001b[0m\u001b[0m\n\u001b[0;32m    347\u001b[0m \u001b[1;33m\u001b[0m\u001b[0m\n",
      "\u001b[1;32m<__array_function__ internals>\u001b[0m in \u001b[0;36mconcatenate\u001b[1;34m(*args, **kwargs)\u001b[0m\n",
      "\u001b[1;31mValueError\u001b[0m: all the input arrays must have same number of dimensions, but the array at index 0 has 2 dimension(s) and the array at index 1 has 1 dimension(s)"
     ]
    }
   ],
   "source": [
    "from actionflow.rnn.opt_beh import OptBEH\n",
    "from actionflow.util.logger import LogFile\n",
    "\n",
    "output_path = '../results/'\n",
    "with LogFile(output_path, 'run.log'):\n",
    "    OptBEH.optimise(worker, output_path, data, None,\n",
    "                    learning_rate=0.01,\n",
    "                    global_iters=50,\n",
    "                    load_model_path=None\n",
    "                    )"
   ]
  },
  {
   "cell_type": "code",
   "execution_count": null,
   "metadata": {},
   "outputs": [],
   "source": []
  },
  {
   "cell_type": "code",
   "execution_count": 6,
   "metadata": {},
   "outputs": [
    {
     "data": {
      "text/plain": [
       "{'merged': [{'reward': array([[ 0,  1,  0,  1,  0, -1],\n",
       "          [ 0,  0,  0,  0,  0,  1],\n",
       "          [ 0,  1,  0,  1,  0,  1],\n",
       "          [ 0,  0,  0,  0, -1, -1]]),\n",
       "   'action': array([[ 0,  1,  0,  1,  0, -1],\n",
       "          [ 1,  1,  0,  1,  1,  1],\n",
       "          [ 0,  1,  0,  1,  0,  1],\n",
       "          [ 1,  1,  0, -1, -1, -1]]),\n",
       "   'state': array([[[ 0. ,  0. ],\n",
       "           [ 0. ,  1. ],\n",
       "           [ 0.1,  0.2],\n",
       "           [ 0.5,  0.6],\n",
       "           [ 0. ,  0. ],\n",
       "           [-1. , -1. ]],\n",
       "   \n",
       "          [[ 0. ,  0. ],\n",
       "           [ 0. , -1. ],\n",
       "           [ 0.1,  0.2],\n",
       "           [ 0.5,  0.6],\n",
       "           [ 0. ,  1. ],\n",
       "           [-1. , -1. ]],\n",
       "   \n",
       "          [[ 0. ,  0. ],\n",
       "           [ 0. ,  1. ],\n",
       "           [ 0.1,  0.2],\n",
       "           [ 0.5,  0.6],\n",
       "           [ 0. ,  0. ],\n",
       "           [ 1. ,  1. ]],\n",
       "   \n",
       "          [[ 0. ,  1. ],\n",
       "           [ 1. , -1. ],\n",
       "           [ 0.1,  0. ],\n",
       "           [ 0. ,  0.6],\n",
       "           [-1. , -1. ],\n",
       "           [-1. , -1. ]]]),\n",
       "   'block': 0,\n",
       "   'id': ['S2', 'S2', 'S1', 'S1']}]}"
      ]
     },
     "execution_count": 6,
     "metadata": {},
     "output_type": "execute_result"
    }
   ],
   "source": [
    "from actionflow.data.data_process import DataProcess\n",
    "train_merged = DataProcess.merge_data(data)\n",
    "train_merged"
   ]
  },
  {
   "cell_type": "markdown",
   "metadata": {},
   "source": [
    "And then the merged data can be used for training the model as before. The test data can also be passed to the training method, in order to test the mmodel on the training data in regular intervals. Say the test data is as follows:"
   ]
  },
  {
   "cell_type": "code",
   "execution_count": 7,
   "metadata": {},
   "outputs": [],
   "source": [
    "test_data = {'S4':\n",
    "        [\n",
    "            {\n",
    "                'action': np.array([\n",
    "                    [1, 1, 0, 1, 0, 1]\n",
    "                ]),\n",
    "                'state': np.array([\n",
    "                    [[0, 0], [0, 1], [0.0, 0.2], [0.1, 0.2], [1, 1], [1, 1]]\n",
    "                ]),\n",
    "                'reward': np.array([\n",
    "                    [1, 3, 0, 1, 0, 1]\n",
    "                ]),\n",
    "                'id': 'S4',\n",
    "                \n",
    "                'block': 0\n",
    "            },\n",
    "            {\n",
    "                'action': np.array([\n",
    "                    [0, 1, -1, 0]\n",
    "                ]),\n",
    "                'state': np.array([\n",
    "                    [[0, 1], [1, -1], [0.1, 0], [0, 0.6]]\n",
    "                ]),\n",
    "                'reward': np.array([\n",
    "                    [0, 1, 0, 1]\n",
    "                ]),\n",
    "                'id': 'S4',\n",
    "                \n",
    "                'block': 1\n",
    "            }\n",
    "            \n",
    "        ],\n",
    "\n",
    "    'S5':\n",
    "        [\n",
    "            {\n",
    "                'action': np.array([\n",
    "                    [1, 1, 0, 1, 1]\n",
    "                ]),\n",
    "                'state': np.array([\n",
    "                    [[0, 0], [0, 0], [0.1, 0.6], [0.5, 0.6], [1, 1]]\n",
    "                ]),\n",
    "                'reward': np.array([\n",
    "                    [0, 1, 0, 1, 0]\n",
    "                ]),\n",
    "                'id': 'S5',\n",
    "                \n",
    "                'block': 0\n",
    "                \n",
    "            },\n",
    "            {\n",
    "                'action': np.array([\n",
    "                    [1, 1, 0, 1, 1, 1]\n",
    "                ]),\n",
    "                'state': np.array([\n",
    "                    [[0, 0], [0, -1], [0.1, 0.2], [0.5, 0.6], [0, 1], [-1, -1]]\n",
    "                ]),\n",
    "                'reward': np.array([\n",
    "                    [0, 0, 0, 0, 0, 1]\n",
    "                ]),\n",
    "                'id': 'S5',\n",
    "                \n",
    "                'block': 1\n",
    "                \n",
    "            }\n",
    "            \n",
    "        ]\n",
    "\n",
    "        }"
   ]
  },
  {
   "cell_type": "markdown",
   "metadata": {},
   "source": [
    "and we want to test the model every 10 iterations:"
   ]
  },
  {
   "cell_type": "code",
   "execution_count": 8,
   "metadata": {},
   "outputs": [
    {
     "name": "stderr",
     "output_type": "stream",
     "text": [
      "2021-06-28 13:14:03,107 - DeepRL - DEBUG - version control: (None, None)\n",
      "2021-06-28 13:14:03,108 - DeepRL - DEBUG - learning rate: 0.01\n",
      "2021-06-28 13:14:03,109 - DeepRL - DEBUG - global iters: 50\n",
      "2021-06-28 13:14:03,110 - DeepRL - DEBUG - training data-points: 2\n",
      "2021-06-28 13:14:03,111 - DeepRL - DEBUG - test data-points: 2\n",
      "2021-06-28 13:14:03,546 - DeepRL - DEBUG - opt started...\n",
      "2021-06-28 13:14:03,547 - DeepRL - DEBUG - started testing...\n",
      "2021-06-28 13:14:03,975 - DeepRL - DEBUG - finished testing.\n"
     ]
    },
    {
     "name": "stdout",
     "output_type": "stream",
     "text": [
      "INFO:tensorflow:../results/model-0/model.cptk is not in all_model_checkpoint_paths. Manually adding it.\n"
     ]
    },
    {
     "name": "stderr",
     "output_type": "stream",
     "text": [
      "2021-06-28 13:14:04,491 - DeepRL - DEBUG - global iter =    0 total obj: 13.8669\n",
      "2021-06-28 13:14:04,511 - DeepRL - DEBUG - global iter =    1 total obj: 13.8146\n",
      "2021-06-28 13:14:04,532 - DeepRL - DEBUG - global iter =    2 total obj: 13.7349\n",
      "2021-06-28 13:14:04,551 - DeepRL - DEBUG - global iter =    3 total obj: 13.6051\n",
      "2021-06-28 13:14:04,573 - DeepRL - DEBUG - global iter =    4 total obj: 13.4159\n",
      "2021-06-28 13:14:04,594 - DeepRL - DEBUG - global iter =    5 total obj: 13.1663\n",
      "2021-06-28 13:14:04,615 - DeepRL - DEBUG - global iter =    6 total obj: 12.8613\n",
      "2021-06-28 13:14:04,636 - DeepRL - DEBUG - global iter =    7 total obj: 12.5064\n",
      "2021-06-28 13:14:04,657 - DeepRL - DEBUG - global iter =    8 total obj: 12.1026\n",
      "2021-06-28 13:14:04,680 - DeepRL - DEBUG - global iter =    9 total obj: 11.6479\n",
      "2021-06-28 13:14:04,681 - DeepRL - DEBUG - started testing...\n",
      "2021-06-28 13:14:05,130 - DeepRL - DEBUG - finished testing.\n"
     ]
    },
    {
     "name": "stdout",
     "output_type": "stream",
     "text": [
      "INFO:tensorflow:../results/model-10/model.cptk is not in all_model_checkpoint_paths. Manually adding it.\n"
     ]
    },
    {
     "name": "stderr",
     "output_type": "stream",
     "text": [
      "2021-06-28 13:14:05,366 - DeepRL - DEBUG - global iter =   10 total obj: 11.1448\n",
      "2021-06-28 13:14:05,389 - DeepRL - DEBUG - global iter =   11 total obj: 10.6094\n",
      "2021-06-28 13:14:05,412 - DeepRL - DEBUG - global iter =   12 total obj: 10.0747\n",
      "2021-06-28 13:14:05,435 - DeepRL - DEBUG - global iter =   13 total obj:  9.5749\n",
      "2021-06-28 13:14:05,455 - DeepRL - DEBUG - global iter =   14 total obj:  9.1271\n",
      "2021-06-28 13:14:05,477 - DeepRL - DEBUG - global iter =   15 total obj:  8.7281\n",
      "2021-06-28 13:14:05,492 - DeepRL - DEBUG - global iter =   16 total obj:  8.3641\n",
      "2021-06-28 13:14:05,506 - DeepRL - DEBUG - global iter =   17 total obj:  8.0218\n",
      "2021-06-28 13:14:05,519 - DeepRL - DEBUG - global iter =   18 total obj:  7.6953\n",
      "2021-06-28 13:14:05,532 - DeepRL - DEBUG - global iter =   19 total obj:  7.3853\n",
      "2021-06-28 13:14:05,533 - DeepRL - DEBUG - started testing...\n",
      "2021-06-28 13:14:05,977 - DeepRL - DEBUG - finished testing.\n"
     ]
    },
    {
     "name": "stdout",
     "output_type": "stream",
     "text": [
      "INFO:tensorflow:../results/model-20/model.cptk is not in all_model_checkpoint_paths. Manually adding it.\n"
     ]
    },
    {
     "name": "stderr",
     "output_type": "stream",
     "text": [
      "2021-06-28 13:14:06,207 - DeepRL - DEBUG - global iter =   20 total obj:  7.0947\n",
      "2021-06-28 13:14:06,230 - DeepRL - DEBUG - global iter =   21 total obj:  6.8240\n",
      "2021-06-28 13:14:06,249 - DeepRL - DEBUG - global iter =   22 total obj:  6.5709\n",
      "2021-06-28 13:14:06,271 - DeepRL - DEBUG - global iter =   23 total obj:  6.3318\n",
      "2021-06-28 13:14:06,290 - DeepRL - DEBUG - global iter =   24 total obj:  6.1039\n",
      "2021-06-28 13:14:06,309 - DeepRL - DEBUG - global iter =   25 total obj:  5.8861\n",
      "2021-06-28 13:14:06,325 - DeepRL - DEBUG - global iter =   26 total obj:  5.6782\n",
      "2021-06-28 13:14:06,342 - DeepRL - DEBUG - global iter =   27 total obj:  5.4803\n",
      "2021-06-28 13:14:06,357 - DeepRL - DEBUG - global iter =   28 total obj:  5.2926\n",
      "2021-06-28 13:14:06,372 - DeepRL - DEBUG - global iter =   29 total obj:  5.1150\n",
      "2021-06-28 13:14:06,373 - DeepRL - DEBUG - started testing...\n",
      "2021-06-28 13:14:06,794 - DeepRL - DEBUG - finished testing.\n"
     ]
    },
    {
     "name": "stdout",
     "output_type": "stream",
     "text": [
      "INFO:tensorflow:../results/model-30/model.cptk is not in all_model_checkpoint_paths. Manually adding it.\n"
     ]
    },
    {
     "name": "stderr",
     "output_type": "stream",
     "text": [
      "2021-06-28 13:14:07,017 - DeepRL - DEBUG - global iter =   30 total obj:  4.9475\n",
      "2021-06-28 13:14:07,038 - DeepRL - DEBUG - global iter =   31 total obj:  4.7901\n",
      "2021-06-28 13:14:07,059 - DeepRL - DEBUG - global iter =   32 total obj:  4.6426\n",
      "2021-06-28 13:14:07,079 - DeepRL - DEBUG - global iter =   33 total obj:  4.5051\n",
      "2021-06-28 13:14:07,098 - DeepRL - DEBUG - global iter =   34 total obj:  4.3775\n",
      "2021-06-28 13:14:07,118 - DeepRL - DEBUG - global iter =   35 total obj:  4.2598\n",
      "2021-06-28 13:14:07,139 - DeepRL - DEBUG - global iter =   36 total obj:  4.1518\n",
      "2021-06-28 13:14:07,158 - DeepRL - DEBUG - global iter =   37 total obj:  4.0530\n",
      "2021-06-28 13:14:07,176 - DeepRL - DEBUG - global iter =   38 total obj:  3.9629\n",
      "2021-06-28 13:14:07,192 - DeepRL - DEBUG - global iter =   39 total obj:  3.8807\n",
      "2021-06-28 13:14:07,193 - DeepRL - DEBUG - started testing...\n",
      "2021-06-28 13:14:07,653 - DeepRL - DEBUG - finished testing.\n"
     ]
    },
    {
     "name": "stdout",
     "output_type": "stream",
     "text": [
      "INFO:tensorflow:../results/model-40/model.cptk is not in all_model_checkpoint_paths. Manually adding it.\n"
     ]
    },
    {
     "name": "stderr",
     "output_type": "stream",
     "text": [
      "2021-06-28 13:14:07,879 - DeepRL - DEBUG - global iter =   40 total obj:  3.8059\n",
      "2021-06-28 13:14:07,900 - DeepRL - DEBUG - global iter =   41 total obj:  3.7376\n",
      "2021-06-28 13:14:07,922 - DeepRL - DEBUG - global iter =   42 total obj:  3.6753\n",
      "2021-06-28 13:14:07,943 - DeepRL - DEBUG - global iter =   43 total obj:  3.6181\n",
      "2021-06-28 13:14:07,964 - DeepRL - DEBUG - global iter =   44 total obj:  3.5657\n",
      "2021-06-28 13:14:07,985 - DeepRL - DEBUG - global iter =   45 total obj:  3.5174\n",
      "2021-06-28 13:14:08,003 - DeepRL - DEBUG - global iter =   46 total obj:  3.4728\n",
      "2021-06-28 13:14:08,017 - DeepRL - DEBUG - global iter =   47 total obj:  3.4315\n",
      "2021-06-28 13:14:08,030 - DeepRL - DEBUG - global iter =   48 total obj:  3.3932\n",
      "2021-06-28 13:14:08,045 - DeepRL - DEBUG - global iter =   49 total obj:  3.3575\n",
      "2021-06-28 13:14:08,045 - DeepRL - DEBUG - opt finished.\n",
      "2021-06-28 13:14:08,046 - DeepRL - DEBUG - started testing...\n",
      "2021-06-28 13:14:08,522 - DeepRL - DEBUG - finished testing.\n"
     ]
    },
    {
     "name": "stdout",
     "output_type": "stream",
     "text": [
      "INFO:tensorflow:../results/model-final/model.cptk is not in all_model_checkpoint_paths. Manually adding it.\n"
     ]
    }
   ],
   "source": [
    "with LogFile(output_path, 'run.log'):\n",
    "    OptBEH.optimise(worker, output_path, data, test_data,\n",
    "                    learning_rate=0.01,\n",
    "                    global_iters=50,\n",
    "                    load_model_path=None,\n",
    "                    test_period=10\n",
    "                    )"
   ]
  },
  {
   "cell_type": "code",
   "execution_count": null,
   "metadata": {},
   "outputs": [],
   "source": []
  }
 ],
 "metadata": {
  "kernelspec": {
   "display_name": "Python 3",
   "language": "python",
   "name": "python3"
  },
  "language_info": {
   "codemirror_mode": {
    "name": "ipython",
    "version": 3
   },
   "file_extension": ".py",
   "mimetype": "text/x-python",
   "name": "python",
   "nbconvert_exporter": "python",
   "pygments_lexer": "ipython3",
   "version": "3.7.9"
  }
 },
 "nbformat": 4,
 "nbformat_minor": 1
}
