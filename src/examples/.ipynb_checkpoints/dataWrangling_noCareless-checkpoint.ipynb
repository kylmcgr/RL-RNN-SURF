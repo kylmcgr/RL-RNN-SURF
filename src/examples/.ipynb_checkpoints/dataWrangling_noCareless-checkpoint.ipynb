{
 "cells": [
  {
   "cell_type": "code",
   "execution_count": 2,
   "id": "985da879",
   "metadata": {},
   "outputs": [
    {
     "name": "stdout",
     "output_type": "stream",
     "text": [
      "C:\\Users\\User\\Documents\\SURF 2021\\RL RNN SURF\\src\n"
     ]
    }
   ],
   "source": [
    "cd .."
   ]
  },
  {
   "cell_type": "code",
   "execution_count": 3,
   "id": "699515cb",
   "metadata": {},
   "outputs": [],
   "source": [
    "import pandas as pd\n",
    "import os\n",
    "\n",
    "scores = pd.read_csv(\"selfReportScores.csv\")\n",
    "cie = pd.read_csv(\"CIE_measures.csv\")\n",
    "merged = scores.merge(cie, on='workerId')\n",
    "\n",
    "directory = r'C:\\Users\\User\\Documents\\SURF 2021\\RL RNN SURF\\src\\taskData'\n",
    "frames = [pd.read_csv('taskData\\\\'+filename) for filename in os.listdir(directory)]\n",
    "taskData = pd.concat(frames, ignore_index=True)"
   ]
  },
  {
   "cell_type": "code",
   "execution_count": 65,
   "id": "34ccb75e",
   "metadata": {},
   "outputs": [
    {
     "name": "stdout",
     "output_type": "stream",
     "text": [
      "1197 917 755\n"
     ]
    },
    {
     "name": "stderr",
     "output_type": "stream",
     "text": [
      "c:\\users\\user\\documents\\surf 2021\\rl rnn surf\\venv\\lib\\site-packages\\ipykernel_launcher.py:2: UserWarning: Boolean Series key will be reindexed to match DataFrame index.\n",
      "  \n",
      "c:\\users\\user\\documents\\surf 2021\\rl rnn surf\\venv\\lib\\site-packages\\ipykernel_launcher.py:2: UserWarning: Boolean Series key will be reindexed to match DataFrame index.\n",
      "  \n",
      "c:\\users\\user\\documents\\surf 2021\\rl rnn surf\\venv\\lib\\site-packages\\ipykernel_launcher.py:2: UserWarning: Boolean Series key will be reindexed to match DataFrame index.\n",
      "  \n",
      "c:\\users\\user\\documents\\surf 2021\\rl rnn surf\\venv\\lib\\site-packages\\ipykernel_launcher.py:2: UserWarning: Boolean Series key will be reindexed to match DataFrame index.\n",
      "  \n",
      "c:\\users\\user\\documents\\surf 2021\\rl rnn surf\\venv\\lib\\site-packages\\ipykernel_launcher.py:2: UserWarning: Boolean Series key will be reindexed to match DataFrame index.\n",
      "  \n"
     ]
    }
   ],
   "source": [
    "crit = pd.read_csv(\"excl_crit.csv\")\n",
    "nocareless = crit[crit.survey_catchcorr!=True][crit.survey_irv_min!=True][crit.survey_reliable!=True][crit.survey_rt_min!=True][crit.survey_psychsyn!=True][crit.survey_psychant!=True][crit.task_redo_max!=True]\n",
    "workerIds = nocareless[nocareless['workerId'].isin(taskData['workerId'])]['workerId']\n",
    "print(crit.shape[0], nocareless.shape[0], workerIds.shape[0])"
   ]
  },
  {
   "cell_type": "code",
   "execution_count": 66,
   "id": "085e7fed",
   "metadata": {},
   "outputs": [
    {
     "name": "stdout",
     "output_type": "stream",
     "text": [
      "1197 755\n"
     ]
    }
   ],
   "source": [
    "merged_nocareless = merged[merged['workerId'].isin(workerIds)]\n",
    "print(merged.shape[0], merged_nocareless.shape[0])"
   ]
  },
  {
   "cell_type": "code",
   "execution_count": 67,
   "id": "70374611",
   "metadata": {},
   "outputs": [],
   "source": [
    "# train_all = workerIds.sample(n = 300)\n",
    "# test_all = workerIds[~workerIds.isin(train_all)]\n",
    "# train_all.to_csv('train_all.csv', index=False)\n",
    "# test_all.to_csv('test_all.csv', index=False)"
   ]
  },
  {
   "cell_type": "code",
   "execution_count": 68,
   "id": "b33a2c5a",
   "metadata": {},
   "outputs": [],
   "source": [
    "# length = merged_nocareless.shape[0]\n",
    "# quartile = int(length/4)\n",
    "# first_quartile = range(0,quartile)\n",
    "# last_quartile = range(length-quartile,length)\n",
    "# trainsize = int(0.8*quartile)"
   ]
  },
  {
   "cell_type": "code",
   "execution_count": 69,
   "id": "4b009812",
   "metadata": {},
   "outputs": [],
   "source": [
    "# bdi = merged_nocareless.sort_values(by=['BDI.II'], ignore_index=True)\n",
    "# bdiTop = bdi['workerId'][first_quartile]\n",
    "# train_bdiTop = bdiTop.sample(n = trainsize)\n",
    "# test_bdiTop = bdiTop[~bdiTop.isin(train_bdiTop)]\n",
    "# train_bdiTop.to_csv('train_bdiTop.csv', index=False)\n",
    "# test_bdiTop.to_csv('test_bdiTop.csv', index=False)\n",
    "# bdiBottom = bdi['workerId'][last_quartile]\n",
    "# train_bdiBottom = bdiBottom.sample(n = trainsize)\n",
    "# test_bdiBottom = bdiBottom[~bdiBottom.isin(train_bdiBottom)]\n",
    "# train_bdiBottom.to_csv('train_bdiBottom.csv', index=False)\n",
    "# test_bdiBottom.to_csv('test_bdiBottom.csv', index=False)"
   ]
  },
  {
   "cell_type": "code",
   "execution_count": 70,
   "id": "837d0c35",
   "metadata": {},
   "outputs": [
    {
     "name": "stdout",
     "output_type": "stream",
     "text": [
      "C:\\Users\\User\\Documents\\SURF 2021\\RL RNN SURF\\src\\nocareless_data_new\n"
     ]
    }
   ],
   "source": [
    "cd nocareless_data_new"
   ]
  },
  {
   "cell_type": "code",
   "execution_count": 71,
   "id": "5a1a2b8b",
   "metadata": {},
   "outputs": [],
   "source": [
    "taskData_train_bdiTop = taskData[taskData['workerId'].isin(train_bdiTop)]\n",
    "taskData_train_bdiBottom = taskData[taskData['workerId'].isin(train_bdiBottom)]\n",
    "taskData_train_bdiTop = taskData_train_bdiTop.dropna(subset=['blockID', 'outcome', 'respKey', 'trialStimID_1', 'trialStimID_2'])\n",
    "taskData_train_bdiBottom = taskData_train_bdiBottom.dropna(subset=['blockID', 'outcome', 'respKey', 'trialStimID_1', 'trialStimID_2'])\n",
    "taskData_train_bdiTop.to_csv('taskData_train_bdiTop.csv', index=False)\n",
    "taskData_train_bdiBottom.to_csv('taskData_train_bdiBottom.csv', index=False)\n",
    "\n",
    "taskData_test_bdiTop = taskData[taskData['workerId'].isin(test_bdiTop)]\n",
    "taskData_test_bdiBottom = taskData[taskData['workerId'].isin(test_bdiBottom)]\n",
    "taskData_test_bdiTop = taskData_test_bdiTop.dropna(subset=['blockID', 'outcome', 'respKey', 'trialStimID_1', 'trialStimID_2'])\n",
    "taskData_test_bdiBottom = taskData_test_bdiBottom.dropna(subset=['blockID', 'outcome', 'respKey', 'trialStimID_1', 'trialStimID_2'])\n",
    "taskData_test_bdiTop.to_csv('taskData_test_bdiTop.csv', index=False)\n",
    "taskData_test_bdiBottom.to_csv('taskData_test_bdiBottom.csv', index=False)\n",
    "\n",
    "taskData_train_all = taskData[taskData['workerId'].isin(train_all)]\n",
    "taskData_train_all = taskData_train_all.dropna(subset=['blockID', 'outcome', 'respKey', 'trialStimID_1', 'trialStimID_2'])\n",
    "taskData_train_all.to_csv('taskData_train_all.csv', index=False)\n",
    "\n",
    "taskData_test_all = taskData[taskData['workerId'].isin(test_all)]\n",
    "taskData_test_all = taskData_test_all.dropna(subset=['blockID', 'outcome', 'respKey', 'trialStimID_1', 'trialStimID_2'])\n",
    "taskData_test_all.to_csv('taskData_test_all.csv', index=False)"
   ]
  },
  {
   "cell_type": "code",
   "execution_count": 72,
   "id": "fd534e44",
   "metadata": {},
   "outputs": [
    {
     "name": "stdout",
     "output_type": "stream",
     "text": [
      "C:\\Users\\User\\Documents\\SURF 2021\\RL RNN SURF\\src\n"
     ]
    }
   ],
   "source": [
    "cd .."
   ]
  }
 ],
 "metadata": {
  "kernelspec": {
   "display_name": "Python 3",
   "language": "python",
   "name": "python3"
  },
  "language_info": {
   "codemirror_mode": {
    "name": "ipython",
    "version": 3
   },
   "file_extension": ".py",
   "mimetype": "text/x-python",
   "name": "python",
   "nbconvert_exporter": "python",
   "pygments_lexer": "ipython3",
   "version": "3.7.9"
  }
 },
 "nbformat": 4,
 "nbformat_minor": 5
}
